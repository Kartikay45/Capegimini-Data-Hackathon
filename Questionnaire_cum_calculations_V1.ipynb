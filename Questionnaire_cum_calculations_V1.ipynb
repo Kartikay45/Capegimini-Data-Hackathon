{
  "nbformat": 4,
  "nbformat_minor": 0,
  "metadata": {
    "colab": {
      "provenance": [],
      "authorship_tag": "ABX9TyO1C3PDgUL9uTWPJ+9FmOQG",
      "include_colab_link": true
    },
    "kernelspec": {
      "name": "python3",
      "display_name": "Python 3"
    },
    "language_info": {
      "name": "python"
    }
  },
  "cells": [
    {
      "cell_type": "markdown",
      "metadata": {
        "id": "view-in-github",
        "colab_type": "text"
      },
      "source": [
        "<a href=\"https://colab.research.google.com/github/aps0611/Capegimini-Data-Hackathon/blob/main/Questionnaire_cum_calculations_V1.ipynb\" target=\"_parent\"><img src=\"https://colab.research.google.com/assets/colab-badge.svg\" alt=\"Open In Colab\"/></a>"
      ]
    },
    {
      "cell_type": "markdown",
      "source": [],
      "metadata": {
        "id": "sjF9p1XcziQi"
      }
    },
    {
      "cell_type": "code",
      "source": [
        "# imports\n",
        "import pandas as pd\n",
        "import numpy as np\n",
        "import matplotlib.pyplot as plt\n",
        "%matplotlib inline"
      ],
      "metadata": {
        "id": "4MYlxk5Pg67k"
      },
      "execution_count": 29,
      "outputs": []
    },
    {
      "cell_type": "markdown",
      "source": [
        "NOTE: Limiting our scope to On-Farm Emissions"
      ],
      "metadata": {
        "id": "WflDO72vzjmO"
      }
    },
    {
      "cell_type": "markdown",
      "source": [
        "# Geocoding the address using Nominatim"
      ],
      "metadata": {
        "id": "_1zYz_bhnLhS"
      }
    },
    {
      "cell_type": "code",
      "source": [
        "from geopy.geocoders import Nominatim\n",
        "\n",
        "class FarmGeocoder:\n",
        "    def __init__(self):\n",
        "        self.geocoder = Nominatim(user_agent=\"FarmGeocoder\")\n",
        "\n",
        "    def geocode_address(self, address):\n",
        "        location = self.geocoder.geocode(address)\n",
        "        if location is not None:\n",
        "            latitude = location.latitude\n",
        "            longitude = location.longitude\n",
        "            return latitude, longitude\n",
        "        else:\n",
        "            return None\n",
        "\n",
        "# Example usage\n",
        "if __name__ == \"__main__\":\n",
        "    farm_addresses = [\n",
        "        \"490 McKinley Maddox, Taylor County\",\n",
        "        \"Arrington, KS 66058, Atchison County\",\n",
        "        \"Eastern Oregon Franklin Farms\"\n",
        "    ]\n",
        "\n",
        "    geocoder = FarmGeocoder()\n",
        "\n",
        "    for address in farm_addresses:\n",
        "        coordinates = geocoder.geocode_address(address)\n",
        "        if coordinates is not None:\n",
        "            latitude, longitude = coordinates\n",
        "            print(f\"Address: {address}\")\n",
        "            print(f\"Latitude: {latitude}\")\n",
        "            print(f\"Longitude: {longitude}\")\n",
        "            print(\"---------\")\n",
        "        else:\n",
        "            print(f\"Failed to geocode address: {address}\")\n",
        "            print(\"---------\")"
      ],
      "metadata": {
        "colab": {
          "base_uri": "https://localhost:8080/"
        },
        "id": "5ZZWDt7QnQCD",
        "outputId": "05faac27-2032-4a43-d089-1306820f87e1"
      },
      "execution_count": 30,
      "outputs": [
        {
          "output_type": "stream",
          "name": "stdout",
          "text": [
            "Address: 490 McKinley Maddox, Taylor County\n",
            "Latitude: 30.1173477\n",
            "Longitude: -83.6172223\n",
            "---------\n",
            "Address: Arrington, KS 66058, Atchison County\n",
            "Latitude: 39.4627757\n",
            "Longitude: -95.5363667\n",
            "---------\n",
            "Failed to geocode address: Eastern Oregon Franklin Farms\n",
            "---------\n"
          ]
        }
      ]
    },
    {
      "cell_type": "markdown",
      "source": [
        "# locate the farms on map"
      ],
      "metadata": {
        "id": "WBnLFA3OnnAk"
      }
    },
    {
      "cell_type": "code",
      "source": [
        "import folium\n",
        "\n",
        "# Create a Folium map centered on the US\n",
        "map_us = folium.Map(location=[39.8283, -98.5795], zoom_start=4)\n",
        "\n",
        "# Add the two coordinates as markers to the map\n",
        "coordinates = [\n",
        "    (30.1173477, -83.6172223),\n",
        "    (39.4627757, -95.5363667)\n",
        "]\n",
        "\n",
        "for coord in coordinates:\n",
        "    folium.Marker(location=coord).add_to(map_us)\n",
        "\n",
        "# Display the map\n",
        "map_us"
      ],
      "metadata": {
        "colab": {
          "base_uri": "https://localhost:8080/",
          "height": 763
        },
        "id": "KMyXwBDynlEz",
        "outputId": "bc946fbc-f022-4f76-be14-8316b8416989"
      },
      "execution_count": 31,
      "outputs": [
        {
          "output_type": "execute_result",
          "data": {
            "text/plain": [
              "<folium.folium.Map at 0x7fa4aa7cf730>"
            ],
            "text/html": [
              "<div style=\"width:100%;\"><div style=\"position:relative;width:100%;height:0;padding-bottom:60%;\"><span style=\"color:#565656\">Make this Notebook Trusted to load map: File -> Trust Notebook</span><iframe srcdoc=\"&lt;!DOCTYPE html&gt;\n",
              "&lt;html&gt;\n",
              "&lt;head&gt;\n",
              "    \n",
              "    &lt;meta http-equiv=&quot;content-type&quot; content=&quot;text/html; charset=UTF-8&quot; /&gt;\n",
              "    \n",
              "        &lt;script&gt;\n",
              "            L_NO_TOUCH = false;\n",
              "            L_DISABLE_3D = false;\n",
              "        &lt;/script&gt;\n",
              "    \n",
              "    &lt;style&gt;html, body {width: 100%;height: 100%;margin: 0;padding: 0;}&lt;/style&gt;\n",
              "    &lt;style&gt;#map {position:absolute;top:0;bottom:0;right:0;left:0;}&lt;/style&gt;\n",
              "    &lt;script src=&quot;https://cdn.jsdelivr.net/npm/leaflet@1.9.3/dist/leaflet.js&quot;&gt;&lt;/script&gt;\n",
              "    &lt;script src=&quot;https://code.jquery.com/jquery-1.12.4.min.js&quot;&gt;&lt;/script&gt;\n",
              "    &lt;script src=&quot;https://cdn.jsdelivr.net/npm/bootstrap@5.2.2/dist/js/bootstrap.bundle.min.js&quot;&gt;&lt;/script&gt;\n",
              "    &lt;script src=&quot;https://cdnjs.cloudflare.com/ajax/libs/Leaflet.awesome-markers/2.0.2/leaflet.awesome-markers.js&quot;&gt;&lt;/script&gt;\n",
              "    &lt;link rel=&quot;stylesheet&quot; href=&quot;https://cdn.jsdelivr.net/npm/leaflet@1.9.3/dist/leaflet.css&quot;/&gt;\n",
              "    &lt;link rel=&quot;stylesheet&quot; href=&quot;https://cdn.jsdelivr.net/npm/bootstrap@5.2.2/dist/css/bootstrap.min.css&quot;/&gt;\n",
              "    &lt;link rel=&quot;stylesheet&quot; href=&quot;https://netdna.bootstrapcdn.com/bootstrap/3.0.0/css/bootstrap.min.css&quot;/&gt;\n",
              "    &lt;link rel=&quot;stylesheet&quot; href=&quot;https://cdn.jsdelivr.net/npm/@fortawesome/fontawesome-free@6.2.0/css/all.min.css&quot;/&gt;\n",
              "    &lt;link rel=&quot;stylesheet&quot; href=&quot;https://cdnjs.cloudflare.com/ajax/libs/Leaflet.awesome-markers/2.0.2/leaflet.awesome-markers.css&quot;/&gt;\n",
              "    &lt;link rel=&quot;stylesheet&quot; href=&quot;https://cdn.jsdelivr.net/gh/python-visualization/folium/folium/templates/leaflet.awesome.rotate.min.css&quot;/&gt;\n",
              "    \n",
              "            &lt;meta name=&quot;viewport&quot; content=&quot;width=device-width,\n",
              "                initial-scale=1.0, maximum-scale=1.0, user-scalable=no&quot; /&gt;\n",
              "            &lt;style&gt;\n",
              "                #map_48ba590db2cdd9f84ecf6e99798c54a9 {\n",
              "                    position: relative;\n",
              "                    width: 100.0%;\n",
              "                    height: 100.0%;\n",
              "                    left: 0.0%;\n",
              "                    top: 0.0%;\n",
              "                }\n",
              "                .leaflet-container { font-size: 1rem; }\n",
              "            &lt;/style&gt;\n",
              "        \n",
              "&lt;/head&gt;\n",
              "&lt;body&gt;\n",
              "    \n",
              "    \n",
              "            &lt;div class=&quot;folium-map&quot; id=&quot;map_48ba590db2cdd9f84ecf6e99798c54a9&quot; &gt;&lt;/div&gt;\n",
              "        \n",
              "&lt;/body&gt;\n",
              "&lt;script&gt;\n",
              "    \n",
              "    \n",
              "            var map_48ba590db2cdd9f84ecf6e99798c54a9 = L.map(\n",
              "                &quot;map_48ba590db2cdd9f84ecf6e99798c54a9&quot;,\n",
              "                {\n",
              "                    center: [39.8283, -98.5795],\n",
              "                    crs: L.CRS.EPSG3857,\n",
              "                    zoom: 4,\n",
              "                    zoomControl: true,\n",
              "                    preferCanvas: false,\n",
              "                }\n",
              "            );\n",
              "\n",
              "            \n",
              "\n",
              "        \n",
              "    \n",
              "            var tile_layer_f63dde9f374a6e3ae364a7d6a6bb36ec = L.tileLayer(\n",
              "                &quot;https://{s}.tile.openstreetmap.org/{z}/{x}/{y}.png&quot;,\n",
              "                {&quot;attribution&quot;: &quot;Data by \\u0026copy; \\u003ca target=\\&quot;_blank\\&quot; href=\\&quot;http://openstreetmap.org\\&quot;\\u003eOpenStreetMap\\u003c/a\\u003e, under \\u003ca target=\\&quot;_blank\\&quot; href=\\&quot;http://www.openstreetmap.org/copyright\\&quot;\\u003eODbL\\u003c/a\\u003e.&quot;, &quot;detectRetina&quot;: false, &quot;maxNativeZoom&quot;: 18, &quot;maxZoom&quot;: 18, &quot;minZoom&quot;: 0, &quot;noWrap&quot;: false, &quot;opacity&quot;: 1, &quot;subdomains&quot;: &quot;abc&quot;, &quot;tms&quot;: false}\n",
              "            ).addTo(map_48ba590db2cdd9f84ecf6e99798c54a9);\n",
              "        \n",
              "    \n",
              "            var marker_2aefa0afc81f27baadd89133af96ab72 = L.marker(\n",
              "                [30.1173477, -83.6172223],\n",
              "                {}\n",
              "            ).addTo(map_48ba590db2cdd9f84ecf6e99798c54a9);\n",
              "        \n",
              "    \n",
              "            var marker_4ba9f2fcee740fb610befea054568d74 = L.marker(\n",
              "                [39.4627757, -95.5363667],\n",
              "                {}\n",
              "            ).addTo(map_48ba590db2cdd9f84ecf6e99798c54a9);\n",
              "        \n",
              "&lt;/script&gt;\n",
              "&lt;/html&gt;\" style=\"position:absolute;width:100%;height:100%;left:0;top:0;border:none !important;\" allowfullscreen webkitallowfullscreen mozallowfullscreen></iframe></div></div>"
            ]
          },
          "metadata": {},
          "execution_count": 31
        }
      ]
    },
    {
      "cell_type": "markdown",
      "source": [
        "# Which crop have you plant in last year?"
      ],
      "metadata": {
        "id": "5XrE2gzGgbYV"
      }
    },
    {
      "cell_type": "markdown",
      "source": [
        "Contraints: Considering the computational cost and time availability we are limiting our scope to 8 crops in US"
      ],
      "metadata": {
        "id": "iTPF-fsHgqyf"
      }
    },
    {
      "cell_type": "code",
      "source": [
        "crop_yield = pd.read_csv('https://raw.githubusercontent.com/aps0611/Capegimini-Data-Hackathon/main/dataset_clean/crop_yield.csv')\n",
        "crop_yield\n",
        "# crop yield is in tonnes/Ha"
      ],
      "metadata": {
        "colab": {
          "base_uri": "https://localhost:8080/",
          "height": 300
        },
        "id": "WwTeRBpbgiBB",
        "outputId": "dae7f07e-4064-4142-e482-469e2b86a177"
      },
      "execution_count": 32,
      "outputs": [
        {
          "output_type": "execute_result",
          "data": {
            "text/plain": [
              "       crops  yield\n",
              "0      wheat   4.46\n",
              "1     barley   3.80\n",
              "2      maize   9.80\n",
              "3       rice   7.43\n",
              "4    sorghum   4.96\n",
              "5     cotton   3.49\n",
              "6  sugarcane  91.22\n",
              "7  groundnut   3.72"
            ],
            "text/html": [
              "\n",
              "  <div id=\"df-ef2389cc-a8c7-4ad7-ba9d-704e6ed5e593\">\n",
              "    <div class=\"colab-df-container\">\n",
              "      <div>\n",
              "<style scoped>\n",
              "    .dataframe tbody tr th:only-of-type {\n",
              "        vertical-align: middle;\n",
              "    }\n",
              "\n",
              "    .dataframe tbody tr th {\n",
              "        vertical-align: top;\n",
              "    }\n",
              "\n",
              "    .dataframe thead th {\n",
              "        text-align: right;\n",
              "    }\n",
              "</style>\n",
              "<table border=\"1\" class=\"dataframe\">\n",
              "  <thead>\n",
              "    <tr style=\"text-align: right;\">\n",
              "      <th></th>\n",
              "      <th>crops</th>\n",
              "      <th>yield</th>\n",
              "    </tr>\n",
              "  </thead>\n",
              "  <tbody>\n",
              "    <tr>\n",
              "      <th>0</th>\n",
              "      <td>wheat</td>\n",
              "      <td>4.46</td>\n",
              "    </tr>\n",
              "    <tr>\n",
              "      <th>1</th>\n",
              "      <td>barley</td>\n",
              "      <td>3.80</td>\n",
              "    </tr>\n",
              "    <tr>\n",
              "      <th>2</th>\n",
              "      <td>maize</td>\n",
              "      <td>9.80</td>\n",
              "    </tr>\n",
              "    <tr>\n",
              "      <th>3</th>\n",
              "      <td>rice</td>\n",
              "      <td>7.43</td>\n",
              "    </tr>\n",
              "    <tr>\n",
              "      <th>4</th>\n",
              "      <td>sorghum</td>\n",
              "      <td>4.96</td>\n",
              "    </tr>\n",
              "    <tr>\n",
              "      <th>5</th>\n",
              "      <td>cotton</td>\n",
              "      <td>3.49</td>\n",
              "    </tr>\n",
              "    <tr>\n",
              "      <th>6</th>\n",
              "      <td>sugarcane</td>\n",
              "      <td>91.22</td>\n",
              "    </tr>\n",
              "    <tr>\n",
              "      <th>7</th>\n",
              "      <td>groundnut</td>\n",
              "      <td>3.72</td>\n",
              "    </tr>\n",
              "  </tbody>\n",
              "</table>\n",
              "</div>\n",
              "      <button class=\"colab-df-convert\" onclick=\"convertToInteractive('df-ef2389cc-a8c7-4ad7-ba9d-704e6ed5e593')\"\n",
              "              title=\"Convert this dataframe to an interactive table.\"\n",
              "              style=\"display:none;\">\n",
              "        \n",
              "  <svg xmlns=\"http://www.w3.org/2000/svg\" height=\"24px\"viewBox=\"0 0 24 24\"\n",
              "       width=\"24px\">\n",
              "    <path d=\"M0 0h24v24H0V0z\" fill=\"none\"/>\n",
              "    <path d=\"M18.56 5.44l.94 2.06.94-2.06 2.06-.94-2.06-.94-.94-2.06-.94 2.06-2.06.94zm-11 1L8.5 8.5l.94-2.06 2.06-.94-2.06-.94L8.5 2.5l-.94 2.06-2.06.94zm10 10l.94 2.06.94-2.06 2.06-.94-2.06-.94-.94-2.06-.94 2.06-2.06.94z\"/><path d=\"M17.41 7.96l-1.37-1.37c-.4-.4-.92-.59-1.43-.59-.52 0-1.04.2-1.43.59L10.3 9.45l-7.72 7.72c-.78.78-.78 2.05 0 2.83L4 21.41c.39.39.9.59 1.41.59.51 0 1.02-.2 1.41-.59l7.78-7.78 2.81-2.81c.8-.78.8-2.07 0-2.86zM5.41 20L4 18.59l7.72-7.72 1.47 1.35L5.41 20z\"/>\n",
              "  </svg>\n",
              "      </button>\n",
              "      \n",
              "  <style>\n",
              "    .colab-df-container {\n",
              "      display:flex;\n",
              "      flex-wrap:wrap;\n",
              "      gap: 12px;\n",
              "    }\n",
              "\n",
              "    .colab-df-convert {\n",
              "      background-color: #E8F0FE;\n",
              "      border: none;\n",
              "      border-radius: 50%;\n",
              "      cursor: pointer;\n",
              "      display: none;\n",
              "      fill: #1967D2;\n",
              "      height: 32px;\n",
              "      padding: 0 0 0 0;\n",
              "      width: 32px;\n",
              "    }\n",
              "\n",
              "    .colab-df-convert:hover {\n",
              "      background-color: #E2EBFA;\n",
              "      box-shadow: 0px 1px 2px rgba(60, 64, 67, 0.3), 0px 1px 3px 1px rgba(60, 64, 67, 0.15);\n",
              "      fill: #174EA6;\n",
              "    }\n",
              "\n",
              "    [theme=dark] .colab-df-convert {\n",
              "      background-color: #3B4455;\n",
              "      fill: #D2E3FC;\n",
              "    }\n",
              "\n",
              "    [theme=dark] .colab-df-convert:hover {\n",
              "      background-color: #434B5C;\n",
              "      box-shadow: 0px 1px 3px 1px rgba(0, 0, 0, 0.15);\n",
              "      filter: drop-shadow(0px 1px 2px rgba(0, 0, 0, 0.3));\n",
              "      fill: #FFFFFF;\n",
              "    }\n",
              "  </style>\n",
              "\n",
              "      <script>\n",
              "        const buttonEl =\n",
              "          document.querySelector('#df-ef2389cc-a8c7-4ad7-ba9d-704e6ed5e593 button.colab-df-convert');\n",
              "        buttonEl.style.display =\n",
              "          google.colab.kernel.accessAllowed ? 'block' : 'none';\n",
              "\n",
              "        async function convertToInteractive(key) {\n",
              "          const element = document.querySelector('#df-ef2389cc-a8c7-4ad7-ba9d-704e6ed5e593');\n",
              "          const dataTable =\n",
              "            await google.colab.kernel.invokeFunction('convertToInteractive',\n",
              "                                                     [key], {});\n",
              "          if (!dataTable) return;\n",
              "\n",
              "          const docLinkHtml = 'Like what you see? Visit the ' +\n",
              "            '<a target=\"_blank\" href=https://colab.research.google.com/notebooks/data_table.ipynb>data table notebook</a>'\n",
              "            + ' to learn more about interactive tables.';\n",
              "          element.innerHTML = '';\n",
              "          dataTable['output_type'] = 'display_data';\n",
              "          await google.colab.output.renderOutput(dataTable, element);\n",
              "          const docLink = document.createElement('div');\n",
              "          docLink.innerHTML = docLinkHtml;\n",
              "          element.appendChild(docLink);\n",
              "        }\n",
              "      </script>\n",
              "    </div>\n",
              "  </div>\n",
              "  "
            ]
          },
          "metadata": {},
          "execution_count": 32
        }
      ]
    },
    {
      "cell_type": "markdown",
      "source": [
        "# creating sample df just for experimentation"
      ],
      "metadata": {
        "id": "TN4-urusoW8A"
      }
    },
    {
      "cell_type": "markdown",
      "source": [
        "* We have to ask user initially what is his total farm size\n",
        "* Then lets proceed crop by crop\n",
        "  * for example : which crop is currently planted and area of plantation"
      ],
      "metadata": {
        "id": "Qwe8P0YNpE6y"
      }
    },
    {
      "cell_type": "code",
      "source": [
        "# Sample data\n",
        "data = {\n",
        "    'Latitude': [30.1173477,39.4627757],\n",
        "    'Longitude': [-83.6172223,-95.5363667],\n",
        "    'Area': [30, 100],\n",
        "    'Crop': ['wheat','rice']\n",
        "}\n",
        "\n",
        "# Create dataframe\n",
        "df = pd.DataFrame(data)\n",
        "\n",
        "print(df)"
      ],
      "metadata": {
        "colab": {
          "base_uri": "https://localhost:8080/"
        },
        "id": "-AHom5dZn4fg",
        "outputId": "1b815905-0f98-400c-dfbc-60d6606d3083"
      },
      "execution_count": 33,
      "outputs": [
        {
          "output_type": "stream",
          "name": "stdout",
          "text": [
            "    Latitude  Longitude  Area   Crop\n",
            "0  30.117348 -83.617222    30  wheat\n",
            "1  39.462776 -95.536367   100   rice\n"
          ]
        }
      ]
    },
    {
      "cell_type": "markdown",
      "source": [
        "# Which region does users farm belong to?"
      ],
      "metadata": {
        "id": "Ht6h3qDRpuUS"
      }
    },
    {
      "cell_type": "markdown",
      "source": [
        "This particular question is in context of lime usage!!"
      ],
      "metadata": {
        "id": "RebB_Qavp312"
      }
    },
    {
      "cell_type": "markdown",
      "source": [
        "# Lime\n",
        "\n",
        "$ Lime use = Area sown(Ha/Farm) * 0.5 (tonne /Ha)$ "
      ],
      "metadata": {
        "id": "mIQuuxfQTrXk"
      }
    },
    {
      "cell_type": "markdown",
      "source": [
        "![us-rainfall.jpg](data:image/jpeg;base64,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)\n",
        "\n"
      ],
      "metadata": {
        "id": "ZVxJ35SbU-1R"
      }
    },
    {
      "cell_type": "markdown",
      "source": [
        "## rainfall is naturally acidic. thus the regions with high rainfall will use more lime to make soil fertile\n",
        "\n",
        "which region does your farm belong to?\n",
        "\n",
        "If no lime has been applied in the past year:\n",
        "* 0.65 * Area\n",
        "\n",
        "Factor * Area sown: \n",
        "* Region 1: 0.55\n",
        "* Region 2: 0.5\n",
        "* Region 3: 0.45\n",
        "* Region 4: 0.45\n",
        "* Region 5: 0.4\n",
        "* Region 6 :0.4"
      ],
      "metadata": {
        "id": "0pE_n3aUV3Z1"
      }
    },
    {
      "cell_type": "markdown",
      "source": [
        "Reference: https://content.ces.ncsu.edu/soil-acidity-and-liming-basic-information-for-farmers-and-gardeners"
      ],
      "metadata": {
        "id": "fnDx8frBYS3Z"
      }
    },
    {
      "cell_type": "markdown",
      "source": [
        "Please note that the data points that we are going to select for our model are going to be categorized region wise"
      ],
      "metadata": {
        "id": "4CMdkIKFZSMO"
      }
    },
    {
      "cell_type": "markdown",
      "source": [
        "Also, there is correlation between soil-vegetation-rainfall. So, we can select any one of the factor from them and start collecting datapoints"
      ],
      "metadata": {
        "id": "pCdh_iflZkGk"
      }
    },
    {
      "cell_type": "code",
      "source": [
        "df['Region'] = [1,2]\n",
        "df"
      ],
      "metadata": {
        "colab": {
          "base_uri": "https://localhost:8080/",
          "height": 112
        },
        "id": "HnbzqHW8tbZ9",
        "outputId": "540ec2cf-ba05-4c2d-f3e2-c17dea88eca1"
      },
      "execution_count": 34,
      "outputs": [
        {
          "output_type": "execute_result",
          "data": {
            "text/plain": [
              "    Latitude  Longitude  Area   Crop  Region\n",
              "0  30.117348 -83.617222    30  wheat       1\n",
              "1  39.462776 -95.536367   100   rice       2"
            ],
            "text/html": [
              "\n",
              "  <div id=\"df-c505ad95-8529-465d-99e5-48863203d36c\">\n",
              "    <div class=\"colab-df-container\">\n",
              "      <div>\n",
              "<style scoped>\n",
              "    .dataframe tbody tr th:only-of-type {\n",
              "        vertical-align: middle;\n",
              "    }\n",
              "\n",
              "    .dataframe tbody tr th {\n",
              "        vertical-align: top;\n",
              "    }\n",
              "\n",
              "    .dataframe thead th {\n",
              "        text-align: right;\n",
              "    }\n",
              "</style>\n",
              "<table border=\"1\" class=\"dataframe\">\n",
              "  <thead>\n",
              "    <tr style=\"text-align: right;\">\n",
              "      <th></th>\n",
              "      <th>Latitude</th>\n",
              "      <th>Longitude</th>\n",
              "      <th>Area</th>\n",
              "      <th>Crop</th>\n",
              "      <th>Region</th>\n",
              "    </tr>\n",
              "  </thead>\n",
              "  <tbody>\n",
              "    <tr>\n",
              "      <th>0</th>\n",
              "      <td>30.117348</td>\n",
              "      <td>-83.617222</td>\n",
              "      <td>30</td>\n",
              "      <td>wheat</td>\n",
              "      <td>1</td>\n",
              "    </tr>\n",
              "    <tr>\n",
              "      <th>1</th>\n",
              "      <td>39.462776</td>\n",
              "      <td>-95.536367</td>\n",
              "      <td>100</td>\n",
              "      <td>rice</td>\n",
              "      <td>2</td>\n",
              "    </tr>\n",
              "  </tbody>\n",
              "</table>\n",
              "</div>\n",
              "      <button class=\"colab-df-convert\" onclick=\"convertToInteractive('df-c505ad95-8529-465d-99e5-48863203d36c')\"\n",
              "              title=\"Convert this dataframe to an interactive table.\"\n",
              "              style=\"display:none;\">\n",
              "        \n",
              "  <svg xmlns=\"http://www.w3.org/2000/svg\" height=\"24px\"viewBox=\"0 0 24 24\"\n",
              "       width=\"24px\">\n",
              "    <path d=\"M0 0h24v24H0V0z\" fill=\"none\"/>\n",
              "    <path d=\"M18.56 5.44l.94 2.06.94-2.06 2.06-.94-2.06-.94-.94-2.06-.94 2.06-2.06.94zm-11 1L8.5 8.5l.94-2.06 2.06-.94-2.06-.94L8.5 2.5l-.94 2.06-2.06.94zm10 10l.94 2.06.94-2.06 2.06-.94-2.06-.94-.94-2.06-.94 2.06-2.06.94z\"/><path d=\"M17.41 7.96l-1.37-1.37c-.4-.4-.92-.59-1.43-.59-.52 0-1.04.2-1.43.59L10.3 9.45l-7.72 7.72c-.78.78-.78 2.05 0 2.83L4 21.41c.39.39.9.59 1.41.59.51 0 1.02-.2 1.41-.59l7.78-7.78 2.81-2.81c.8-.78.8-2.07 0-2.86zM5.41 20L4 18.59l7.72-7.72 1.47 1.35L5.41 20z\"/>\n",
              "  </svg>\n",
              "      </button>\n",
              "      \n",
              "  <style>\n",
              "    .colab-df-container {\n",
              "      display:flex;\n",
              "      flex-wrap:wrap;\n",
              "      gap: 12px;\n",
              "    }\n",
              "\n",
              "    .colab-df-convert {\n",
              "      background-color: #E8F0FE;\n",
              "      border: none;\n",
              "      border-radius: 50%;\n",
              "      cursor: pointer;\n",
              "      display: none;\n",
              "      fill: #1967D2;\n",
              "      height: 32px;\n",
              "      padding: 0 0 0 0;\n",
              "      width: 32px;\n",
              "    }\n",
              "\n",
              "    .colab-df-convert:hover {\n",
              "      background-color: #E2EBFA;\n",
              "      box-shadow: 0px 1px 2px rgba(60, 64, 67, 0.3), 0px 1px 3px 1px rgba(60, 64, 67, 0.15);\n",
              "      fill: #174EA6;\n",
              "    }\n",
              "\n",
              "    [theme=dark] .colab-df-convert {\n",
              "      background-color: #3B4455;\n",
              "      fill: #D2E3FC;\n",
              "    }\n",
              "\n",
              "    [theme=dark] .colab-df-convert:hover {\n",
              "      background-color: #434B5C;\n",
              "      box-shadow: 0px 1px 3px 1px rgba(0, 0, 0, 0.15);\n",
              "      filter: drop-shadow(0px 1px 2px rgba(0, 0, 0, 0.3));\n",
              "      fill: #FFFFFF;\n",
              "    }\n",
              "  </style>\n",
              "\n",
              "      <script>\n",
              "        const buttonEl =\n",
              "          document.querySelector('#df-c505ad95-8529-465d-99e5-48863203d36c button.colab-df-convert');\n",
              "        buttonEl.style.display =\n",
              "          google.colab.kernel.accessAllowed ? 'block' : 'none';\n",
              "\n",
              "        async function convertToInteractive(key) {\n",
              "          const element = document.querySelector('#df-c505ad95-8529-465d-99e5-48863203d36c');\n",
              "          const dataTable =\n",
              "            await google.colab.kernel.invokeFunction('convertToInteractive',\n",
              "                                                     [key], {});\n",
              "          if (!dataTable) return;\n",
              "\n",
              "          const docLinkHtml = 'Like what you see? Visit the ' +\n",
              "            '<a target=\"_blank\" href=https://colab.research.google.com/notebooks/data_table.ipynb>data table notebook</a>'\n",
              "            + ' to learn more about interactive tables.';\n",
              "          element.innerHTML = '';\n",
              "          dataTable['output_type'] = 'display_data';\n",
              "          await google.colab.output.renderOutput(dataTable, element);\n",
              "          const docLink = document.createElement('div');\n",
              "          docLink.innerHTML = docLinkHtml;\n",
              "          element.appendChild(docLink);\n",
              "        }\n",
              "      </script>\n",
              "    </div>\n",
              "  </div>\n",
              "  "
            ]
          },
          "metadata": {},
          "execution_count": 34
        }
      ]
    },
    {
      "cell_type": "code",
      "source": [
        "df['Lime_usage'] = [0.55*30, 0.50*100]\n",
        "df"
      ],
      "metadata": {
        "colab": {
          "base_uri": "https://localhost:8080/",
          "height": 112
        },
        "id": "RFi6CEkruLgz",
        "outputId": "2a19c0f3-89ea-43b1-dcba-2d573f452d74"
      },
      "execution_count": 35,
      "outputs": [
        {
          "output_type": "execute_result",
          "data": {
            "text/plain": [
              "    Latitude  Longitude  Area   Crop  Region  Lime_usage\n",
              "0  30.117348 -83.617222    30  wheat       1        16.5\n",
              "1  39.462776 -95.536367   100   rice       2        50.0"
            ],
            "text/html": [
              "\n",
              "  <div id=\"df-47acd3a4-97a6-493c-8c21-bf98fc4728d3\">\n",
              "    <div class=\"colab-df-container\">\n",
              "      <div>\n",
              "<style scoped>\n",
              "    .dataframe tbody tr th:only-of-type {\n",
              "        vertical-align: middle;\n",
              "    }\n",
              "\n",
              "    .dataframe tbody tr th {\n",
              "        vertical-align: top;\n",
              "    }\n",
              "\n",
              "    .dataframe thead th {\n",
              "        text-align: right;\n",
              "    }\n",
              "</style>\n",
              "<table border=\"1\" class=\"dataframe\">\n",
              "  <thead>\n",
              "    <tr style=\"text-align: right;\">\n",
              "      <th></th>\n",
              "      <th>Latitude</th>\n",
              "      <th>Longitude</th>\n",
              "      <th>Area</th>\n",
              "      <th>Crop</th>\n",
              "      <th>Region</th>\n",
              "      <th>Lime_usage</th>\n",
              "    </tr>\n",
              "  </thead>\n",
              "  <tbody>\n",
              "    <tr>\n",
              "      <th>0</th>\n",
              "      <td>30.117348</td>\n",
              "      <td>-83.617222</td>\n",
              "      <td>30</td>\n",
              "      <td>wheat</td>\n",
              "      <td>1</td>\n",
              "      <td>16.5</td>\n",
              "    </tr>\n",
              "    <tr>\n",
              "      <th>1</th>\n",
              "      <td>39.462776</td>\n",
              "      <td>-95.536367</td>\n",
              "      <td>100</td>\n",
              "      <td>rice</td>\n",
              "      <td>2</td>\n",
              "      <td>50.0</td>\n",
              "    </tr>\n",
              "  </tbody>\n",
              "</table>\n",
              "</div>\n",
              "      <button class=\"colab-df-convert\" onclick=\"convertToInteractive('df-47acd3a4-97a6-493c-8c21-bf98fc4728d3')\"\n",
              "              title=\"Convert this dataframe to an interactive table.\"\n",
              "              style=\"display:none;\">\n",
              "        \n",
              "  <svg xmlns=\"http://www.w3.org/2000/svg\" height=\"24px\"viewBox=\"0 0 24 24\"\n",
              "       width=\"24px\">\n",
              "    <path d=\"M0 0h24v24H0V0z\" fill=\"none\"/>\n",
              "    <path d=\"M18.56 5.44l.94 2.06.94-2.06 2.06-.94-2.06-.94-.94-2.06-.94 2.06-2.06.94zm-11 1L8.5 8.5l.94-2.06 2.06-.94-2.06-.94L8.5 2.5l-.94 2.06-2.06.94zm10 10l.94 2.06.94-2.06 2.06-.94-2.06-.94-.94-2.06-.94 2.06-2.06.94z\"/><path d=\"M17.41 7.96l-1.37-1.37c-.4-.4-.92-.59-1.43-.59-.52 0-1.04.2-1.43.59L10.3 9.45l-7.72 7.72c-.78.78-.78 2.05 0 2.83L4 21.41c.39.39.9.59 1.41.59.51 0 1.02-.2 1.41-.59l7.78-7.78 2.81-2.81c.8-.78.8-2.07 0-2.86zM5.41 20L4 18.59l7.72-7.72 1.47 1.35L5.41 20z\"/>\n",
              "  </svg>\n",
              "      </button>\n",
              "      \n",
              "  <style>\n",
              "    .colab-df-container {\n",
              "      display:flex;\n",
              "      flex-wrap:wrap;\n",
              "      gap: 12px;\n",
              "    }\n",
              "\n",
              "    .colab-df-convert {\n",
              "      background-color: #E8F0FE;\n",
              "      border: none;\n",
              "      border-radius: 50%;\n",
              "      cursor: pointer;\n",
              "      display: none;\n",
              "      fill: #1967D2;\n",
              "      height: 32px;\n",
              "      padding: 0 0 0 0;\n",
              "      width: 32px;\n",
              "    }\n",
              "\n",
              "    .colab-df-convert:hover {\n",
              "      background-color: #E2EBFA;\n",
              "      box-shadow: 0px 1px 2px rgba(60, 64, 67, 0.3), 0px 1px 3px 1px rgba(60, 64, 67, 0.15);\n",
              "      fill: #174EA6;\n",
              "    }\n",
              "\n",
              "    [theme=dark] .colab-df-convert {\n",
              "      background-color: #3B4455;\n",
              "      fill: #D2E3FC;\n",
              "    }\n",
              "\n",
              "    [theme=dark] .colab-df-convert:hover {\n",
              "      background-color: #434B5C;\n",
              "      box-shadow: 0px 1px 3px 1px rgba(0, 0, 0, 0.15);\n",
              "      filter: drop-shadow(0px 1px 2px rgba(0, 0, 0, 0.3));\n",
              "      fill: #FFFFFF;\n",
              "    }\n",
              "  </style>\n",
              "\n",
              "      <script>\n",
              "        const buttonEl =\n",
              "          document.querySelector('#df-47acd3a4-97a6-493c-8c21-bf98fc4728d3 button.colab-df-convert');\n",
              "        buttonEl.style.display =\n",
              "          google.colab.kernel.accessAllowed ? 'block' : 'none';\n",
              "\n",
              "        async function convertToInteractive(key) {\n",
              "          const element = document.querySelector('#df-47acd3a4-97a6-493c-8c21-bf98fc4728d3');\n",
              "          const dataTable =\n",
              "            await google.colab.kernel.invokeFunction('convertToInteractive',\n",
              "                                                     [key], {});\n",
              "          if (!dataTable) return;\n",
              "\n",
              "          const docLinkHtml = 'Like what you see? Visit the ' +\n",
              "            '<a target=\"_blank\" href=https://colab.research.google.com/notebooks/data_table.ipynb>data table notebook</a>'\n",
              "            + ' to learn more about interactive tables.';\n",
              "          element.innerHTML = '';\n",
              "          dataTable['output_type'] = 'display_data';\n",
              "          await google.colab.output.renderOutput(dataTable, element);\n",
              "          const docLink = document.createElement('div');\n",
              "          docLink.innerHTML = docLinkHtml;\n",
              "          element.appendChild(docLink);\n",
              "        }\n",
              "      </script>\n",
              "    </div>\n",
              "  </div>\n",
              "  "
            ]
          },
          "metadata": {},
          "execution_count": 35
        }
      ]
    },
    {
      "cell_type": "markdown",
      "source": [
        "# Wheter the user is performing any tillage before planting the crops?"
      ],
      "metadata": {
        "id": "iHEVYY5Eu3vk"
      }
    },
    {
      "cell_type": "code",
      "source": [
        "df['tillage'] = ['Yes','Yes']\n",
        "df"
      ],
      "metadata": {
        "colab": {
          "base_uri": "https://localhost:8080/",
          "height": 112
        },
        "id": "HnH1w4reu_tr",
        "outputId": "12a111b9-3c15-43b7-c422-626f2d545587"
      },
      "execution_count": 36,
      "outputs": [
        {
          "output_type": "execute_result",
          "data": {
            "text/plain": [
              "    Latitude  Longitude  Area   Crop  Region  Lime_usage tillage\n",
              "0  30.117348 -83.617222    30  wheat       1        16.5     Yes\n",
              "1  39.462776 -95.536367   100   rice       2        50.0     Yes"
            ],
            "text/html": [
              "\n",
              "  <div id=\"df-1e9d2eac-56b1-4550-9450-d700689384d9\">\n",
              "    <div class=\"colab-df-container\">\n",
              "      <div>\n",
              "<style scoped>\n",
              "    .dataframe tbody tr th:only-of-type {\n",
              "        vertical-align: middle;\n",
              "    }\n",
              "\n",
              "    .dataframe tbody tr th {\n",
              "        vertical-align: top;\n",
              "    }\n",
              "\n",
              "    .dataframe thead th {\n",
              "        text-align: right;\n",
              "    }\n",
              "</style>\n",
              "<table border=\"1\" class=\"dataframe\">\n",
              "  <thead>\n",
              "    <tr style=\"text-align: right;\">\n",
              "      <th></th>\n",
              "      <th>Latitude</th>\n",
              "      <th>Longitude</th>\n",
              "      <th>Area</th>\n",
              "      <th>Crop</th>\n",
              "      <th>Region</th>\n",
              "      <th>Lime_usage</th>\n",
              "      <th>tillage</th>\n",
              "    </tr>\n",
              "  </thead>\n",
              "  <tbody>\n",
              "    <tr>\n",
              "      <th>0</th>\n",
              "      <td>30.117348</td>\n",
              "      <td>-83.617222</td>\n",
              "      <td>30</td>\n",
              "      <td>wheat</td>\n",
              "      <td>1</td>\n",
              "      <td>16.5</td>\n",
              "      <td>Yes</td>\n",
              "    </tr>\n",
              "    <tr>\n",
              "      <th>1</th>\n",
              "      <td>39.462776</td>\n",
              "      <td>-95.536367</td>\n",
              "      <td>100</td>\n",
              "      <td>rice</td>\n",
              "      <td>2</td>\n",
              "      <td>50.0</td>\n",
              "      <td>Yes</td>\n",
              "    </tr>\n",
              "  </tbody>\n",
              "</table>\n",
              "</div>\n",
              "      <button class=\"colab-df-convert\" onclick=\"convertToInteractive('df-1e9d2eac-56b1-4550-9450-d700689384d9')\"\n",
              "              title=\"Convert this dataframe to an interactive table.\"\n",
              "              style=\"display:none;\">\n",
              "        \n",
              "  <svg xmlns=\"http://www.w3.org/2000/svg\" height=\"24px\"viewBox=\"0 0 24 24\"\n",
              "       width=\"24px\">\n",
              "    <path d=\"M0 0h24v24H0V0z\" fill=\"none\"/>\n",
              "    <path d=\"M18.56 5.44l.94 2.06.94-2.06 2.06-.94-2.06-.94-.94-2.06-.94 2.06-2.06.94zm-11 1L8.5 8.5l.94-2.06 2.06-.94-2.06-.94L8.5 2.5l-.94 2.06-2.06.94zm10 10l.94 2.06.94-2.06 2.06-.94-2.06-.94-.94-2.06-.94 2.06-2.06.94z\"/><path d=\"M17.41 7.96l-1.37-1.37c-.4-.4-.92-.59-1.43-.59-.52 0-1.04.2-1.43.59L10.3 9.45l-7.72 7.72c-.78.78-.78 2.05 0 2.83L4 21.41c.39.39.9.59 1.41.59.51 0 1.02-.2 1.41-.59l7.78-7.78 2.81-2.81c.8-.78.8-2.07 0-2.86zM5.41 20L4 18.59l7.72-7.72 1.47 1.35L5.41 20z\"/>\n",
              "  </svg>\n",
              "      </button>\n",
              "      \n",
              "  <style>\n",
              "    .colab-df-container {\n",
              "      display:flex;\n",
              "      flex-wrap:wrap;\n",
              "      gap: 12px;\n",
              "    }\n",
              "\n",
              "    .colab-df-convert {\n",
              "      background-color: #E8F0FE;\n",
              "      border: none;\n",
              "      border-radius: 50%;\n",
              "      cursor: pointer;\n",
              "      display: none;\n",
              "      fill: #1967D2;\n",
              "      height: 32px;\n",
              "      padding: 0 0 0 0;\n",
              "      width: 32px;\n",
              "    }\n",
              "\n",
              "    .colab-df-convert:hover {\n",
              "      background-color: #E2EBFA;\n",
              "      box-shadow: 0px 1px 2px rgba(60, 64, 67, 0.3), 0px 1px 3px 1px rgba(60, 64, 67, 0.15);\n",
              "      fill: #174EA6;\n",
              "    }\n",
              "\n",
              "    [theme=dark] .colab-df-convert {\n",
              "      background-color: #3B4455;\n",
              "      fill: #D2E3FC;\n",
              "    }\n",
              "\n",
              "    [theme=dark] .colab-df-convert:hover {\n",
              "      background-color: #434B5C;\n",
              "      box-shadow: 0px 1px 3px 1px rgba(0, 0, 0, 0.15);\n",
              "      filter: drop-shadow(0px 1px 2px rgba(0, 0, 0, 0.3));\n",
              "      fill: #FFFFFF;\n",
              "    }\n",
              "  </style>\n",
              "\n",
              "      <script>\n",
              "        const buttonEl =\n",
              "          document.querySelector('#df-1e9d2eac-56b1-4550-9450-d700689384d9 button.colab-df-convert');\n",
              "        buttonEl.style.display =\n",
              "          google.colab.kernel.accessAllowed ? 'block' : 'none';\n",
              "\n",
              "        async function convertToInteractive(key) {\n",
              "          const element = document.querySelector('#df-1e9d2eac-56b1-4550-9450-d700689384d9');\n",
              "          const dataTable =\n",
              "            await google.colab.kernel.invokeFunction('convertToInteractive',\n",
              "                                                     [key], {});\n",
              "          if (!dataTable) return;\n",
              "\n",
              "          const docLinkHtml = 'Like what you see? Visit the ' +\n",
              "            '<a target=\"_blank\" href=https://colab.research.google.com/notebooks/data_table.ipynb>data table notebook</a>'\n",
              "            + ' to learn more about interactive tables.';\n",
              "          element.innerHTML = '';\n",
              "          dataTable['output_type'] = 'display_data';\n",
              "          await google.colab.output.renderOutput(dataTable, element);\n",
              "          const docLink = document.createElement('div');\n",
              "          docLink.innerHTML = docLinkHtml;\n",
              "          element.appendChild(docLink);\n",
              "        }\n",
              "      </script>\n",
              "    </div>\n",
              "  </div>\n",
              "  "
            ]
          },
          "metadata": {},
          "execution_count": 36
        }
      ]
    },
    {
      "cell_type": "markdown",
      "source": [
        "# Is the user using any machinery for tillage or plantation?"
      ],
      "metadata": {
        "id": "JBCao5QQv1wu"
      }
    },
    {
      "cell_type": "markdown",
      "source": [
        "Here we are assuming that the user is using tractor units: Fuel burnt will release GHG's into the atmosphere."
      ],
      "metadata": {
        "id": "_JZ41wdnv7ie"
      }
    },
    {
      "cell_type": "markdown",
      "source": [
        "Farming.  Fortunately, New Holland has an online calculator that allows you to roughly estimate CO2 emissions from its tractor. For example, a modern 300 horsepower Tier 4 tractor operated for 200 hour per year would generate 51,950 lbs of CO2 per year. In metric tonnes, that equals 23.5 tonnes per year. (An older pre-DEF tractor can be calculated on the website too, and not surprisingly, is much worse). A farmer with the modern 300 hp tractor could offset his or her emissions by purchasing 23.5 carbon credits for $179.06 (at today’s price).\n"
      ],
      "metadata": {
        "id": "pIZIXbZ7wiT-"
      }
    },
    {
      "cell_type": "code",
      "source": [
        "23.5/200"
      ],
      "metadata": {
        "colab": {
          "base_uri": "https://localhost:8080/"
        },
        "id": "VExS8OtWKzRU",
        "outputId": "25236766-b243-465c-89bb-58cdac829ee4"
      },
      "execution_count": 70,
      "outputs": [
        {
          "output_type": "execute_result",
          "data": {
            "text/plain": [
              "0.1175"
            ]
          },
          "metadata": {},
          "execution_count": 70
        }
      ]
    },
    {
      "cell_type": "code",
      "source": [
        "df['Machinery'] = ['Yes','Yes']\n",
        "df['Mach_number'] = [1,3]\n",
        "\n",
        "df"
      ],
      "metadata": {
        "colab": {
          "base_uri": "https://localhost:8080/",
          "height": 112
        },
        "id": "3PukaHymwhfb",
        "outputId": "5880e6d0-5532-435a-a9f0-2a481caa7b62"
      },
      "execution_count": 37,
      "outputs": [
        {
          "output_type": "execute_result",
          "data": {
            "text/plain": [
              "    Latitude  Longitude  Area   Crop  Region  Lime_usage tillage Machinery  \\\n",
              "0  30.117348 -83.617222    30  wheat       1        16.5     Yes       Yes   \n",
              "1  39.462776 -95.536367   100   rice       2        50.0     Yes       Yes   \n",
              "\n",
              "   Mach_number  \n",
              "0            1  \n",
              "1            3  "
            ],
            "text/html": [
              "\n",
              "  <div id=\"df-b58c0335-1015-4dd2-b32a-6ce497b40ae6\">\n",
              "    <div class=\"colab-df-container\">\n",
              "      <div>\n",
              "<style scoped>\n",
              "    .dataframe tbody tr th:only-of-type {\n",
              "        vertical-align: middle;\n",
              "    }\n",
              "\n",
              "    .dataframe tbody tr th {\n",
              "        vertical-align: top;\n",
              "    }\n",
              "\n",
              "    .dataframe thead th {\n",
              "        text-align: right;\n",
              "    }\n",
              "</style>\n",
              "<table border=\"1\" class=\"dataframe\">\n",
              "  <thead>\n",
              "    <tr style=\"text-align: right;\">\n",
              "      <th></th>\n",
              "      <th>Latitude</th>\n",
              "      <th>Longitude</th>\n",
              "      <th>Area</th>\n",
              "      <th>Crop</th>\n",
              "      <th>Region</th>\n",
              "      <th>Lime_usage</th>\n",
              "      <th>tillage</th>\n",
              "      <th>Machinery</th>\n",
              "      <th>Mach_number</th>\n",
              "    </tr>\n",
              "  </thead>\n",
              "  <tbody>\n",
              "    <tr>\n",
              "      <th>0</th>\n",
              "      <td>30.117348</td>\n",
              "      <td>-83.617222</td>\n",
              "      <td>30</td>\n",
              "      <td>wheat</td>\n",
              "      <td>1</td>\n",
              "      <td>16.5</td>\n",
              "      <td>Yes</td>\n",
              "      <td>Yes</td>\n",
              "      <td>1</td>\n",
              "    </tr>\n",
              "    <tr>\n",
              "      <th>1</th>\n",
              "      <td>39.462776</td>\n",
              "      <td>-95.536367</td>\n",
              "      <td>100</td>\n",
              "      <td>rice</td>\n",
              "      <td>2</td>\n",
              "      <td>50.0</td>\n",
              "      <td>Yes</td>\n",
              "      <td>Yes</td>\n",
              "      <td>3</td>\n",
              "    </tr>\n",
              "  </tbody>\n",
              "</table>\n",
              "</div>\n",
              "      <button class=\"colab-df-convert\" onclick=\"convertToInteractive('df-b58c0335-1015-4dd2-b32a-6ce497b40ae6')\"\n",
              "              title=\"Convert this dataframe to an interactive table.\"\n",
              "              style=\"display:none;\">\n",
              "        \n",
              "  <svg xmlns=\"http://www.w3.org/2000/svg\" height=\"24px\"viewBox=\"0 0 24 24\"\n",
              "       width=\"24px\">\n",
              "    <path d=\"M0 0h24v24H0V0z\" fill=\"none\"/>\n",
              "    <path d=\"M18.56 5.44l.94 2.06.94-2.06 2.06-.94-2.06-.94-.94-2.06-.94 2.06-2.06.94zm-11 1L8.5 8.5l.94-2.06 2.06-.94-2.06-.94L8.5 2.5l-.94 2.06-2.06.94zm10 10l.94 2.06.94-2.06 2.06-.94-2.06-.94-.94-2.06-.94 2.06-2.06.94z\"/><path d=\"M17.41 7.96l-1.37-1.37c-.4-.4-.92-.59-1.43-.59-.52 0-1.04.2-1.43.59L10.3 9.45l-7.72 7.72c-.78.78-.78 2.05 0 2.83L4 21.41c.39.39.9.59 1.41.59.51 0 1.02-.2 1.41-.59l7.78-7.78 2.81-2.81c.8-.78.8-2.07 0-2.86zM5.41 20L4 18.59l7.72-7.72 1.47 1.35L5.41 20z\"/>\n",
              "  </svg>\n",
              "      </button>\n",
              "      \n",
              "  <style>\n",
              "    .colab-df-container {\n",
              "      display:flex;\n",
              "      flex-wrap:wrap;\n",
              "      gap: 12px;\n",
              "    }\n",
              "\n",
              "    .colab-df-convert {\n",
              "      background-color: #E8F0FE;\n",
              "      border: none;\n",
              "      border-radius: 50%;\n",
              "      cursor: pointer;\n",
              "      display: none;\n",
              "      fill: #1967D2;\n",
              "      height: 32px;\n",
              "      padding: 0 0 0 0;\n",
              "      width: 32px;\n",
              "    }\n",
              "\n",
              "    .colab-df-convert:hover {\n",
              "      background-color: #E2EBFA;\n",
              "      box-shadow: 0px 1px 2px rgba(60, 64, 67, 0.3), 0px 1px 3px 1px rgba(60, 64, 67, 0.15);\n",
              "      fill: #174EA6;\n",
              "    }\n",
              "\n",
              "    [theme=dark] .colab-df-convert {\n",
              "      background-color: #3B4455;\n",
              "      fill: #D2E3FC;\n",
              "    }\n",
              "\n",
              "    [theme=dark] .colab-df-convert:hover {\n",
              "      background-color: #434B5C;\n",
              "      box-shadow: 0px 1px 3px 1px rgba(0, 0, 0, 0.15);\n",
              "      filter: drop-shadow(0px 1px 2px rgba(0, 0, 0, 0.3));\n",
              "      fill: #FFFFFF;\n",
              "    }\n",
              "  </style>\n",
              "\n",
              "      <script>\n",
              "        const buttonEl =\n",
              "          document.querySelector('#df-b58c0335-1015-4dd2-b32a-6ce497b40ae6 button.colab-df-convert');\n",
              "        buttonEl.style.display =\n",
              "          google.colab.kernel.accessAllowed ? 'block' : 'none';\n",
              "\n",
              "        async function convertToInteractive(key) {\n",
              "          const element = document.querySelector('#df-b58c0335-1015-4dd2-b32a-6ce497b40ae6');\n",
              "          const dataTable =\n",
              "            await google.colab.kernel.invokeFunction('convertToInteractive',\n",
              "                                                     [key], {});\n",
              "          if (!dataTable) return;\n",
              "\n",
              "          const docLinkHtml = 'Like what you see? Visit the ' +\n",
              "            '<a target=\"_blank\" href=https://colab.research.google.com/notebooks/data_table.ipynb>data table notebook</a>'\n",
              "            + ' to learn more about interactive tables.';\n",
              "          element.innerHTML = '';\n",
              "          dataTable['output_type'] = 'display_data';\n",
              "          await google.colab.output.renderOutput(dataTable, element);\n",
              "          const docLink = document.createElement('div');\n",
              "          docLink.innerHTML = docLinkHtml;\n",
              "          element.appendChild(docLink);\n",
              "        }\n",
              "      </script>\n",
              "    </div>\n",
              "  </div>\n",
              "  "
            ]
          },
          "metadata": {},
          "execution_count": 37
        }
      ]
    },
    {
      "cell_type": "markdown",
      "source": [
        "# Fertilizer Usage:"
      ],
      "metadata": {
        "id": "r2f3PYNYxO8k"
      }
    },
    {
      "cell_type": "markdown",
      "source": [
        "We can consider giving user 6 options for fertilizers:"
      ],
      "metadata": {
        "id": "xGRZlCgCx4yR"
      }
    },
    {
      "cell_type": "markdown",
      "source": [
        "1. MAP: Mono-ammonium-phosphate\n",
        "2. DAP: Di-ammonium-phosphate\n",
        "3. SOA: Sulphate/Sulphur\n",
        "4. Urea Application\n",
        "5. Single Superphosphate\n",
        "6. UAN: Urea Ammonium Nitrate"
      ],
      "metadata": {
        "id": "gPtMGJrIyBAX"
      }
    },
    {
      "cell_type": "code",
      "source": [
        "df['MAP'] = [0,50]\n",
        "df['DAP'] = [3,10]\n",
        "df['SOA'] = [5,5]\n",
        "df['Urea'] = [2,10]\n",
        "df ['SSP'] = [1 , 2]\n",
        "df['UAN'] = [1,5]\n",
        "\n",
        "df"
      ],
      "metadata": {
        "colab": {
          "base_uri": "https://localhost:8080/",
          "height": 112
        },
        "id": "5--qcSI6ysmi",
        "outputId": "e270f61e-b451-43cb-a9e2-288b155db827"
      },
      "execution_count": 38,
      "outputs": [
        {
          "output_type": "execute_result",
          "data": {
            "text/plain": [
              "    Latitude  Longitude  Area   Crop  Region  Lime_usage tillage Machinery  \\\n",
              "0  30.117348 -83.617222    30  wheat       1        16.5     Yes       Yes   \n",
              "1  39.462776 -95.536367   100   rice       2        50.0     Yes       Yes   \n",
              "\n",
              "   Mach_number  MAP  DAP  SOA  Urea  SSP  UAN  \n",
              "0            1    0    3    5     2    1    1  \n",
              "1            3   50   10    5    10    2    5  "
            ],
            "text/html": [
              "\n",
              "  <div id=\"df-6d663fa0-0f44-4203-b621-279082f0662a\">\n",
              "    <div class=\"colab-df-container\">\n",
              "      <div>\n",
              "<style scoped>\n",
              "    .dataframe tbody tr th:only-of-type {\n",
              "        vertical-align: middle;\n",
              "    }\n",
              "\n",
              "    .dataframe tbody tr th {\n",
              "        vertical-align: top;\n",
              "    }\n",
              "\n",
              "    .dataframe thead th {\n",
              "        text-align: right;\n",
              "    }\n",
              "</style>\n",
              "<table border=\"1\" class=\"dataframe\">\n",
              "  <thead>\n",
              "    <tr style=\"text-align: right;\">\n",
              "      <th></th>\n",
              "      <th>Latitude</th>\n",
              "      <th>Longitude</th>\n",
              "      <th>Area</th>\n",
              "      <th>Crop</th>\n",
              "      <th>Region</th>\n",
              "      <th>Lime_usage</th>\n",
              "      <th>tillage</th>\n",
              "      <th>Machinery</th>\n",
              "      <th>Mach_number</th>\n",
              "      <th>MAP</th>\n",
              "      <th>DAP</th>\n",
              "      <th>SOA</th>\n",
              "      <th>Urea</th>\n",
              "      <th>SSP</th>\n",
              "      <th>UAN</th>\n",
              "    </tr>\n",
              "  </thead>\n",
              "  <tbody>\n",
              "    <tr>\n",
              "      <th>0</th>\n",
              "      <td>30.117348</td>\n",
              "      <td>-83.617222</td>\n",
              "      <td>30</td>\n",
              "      <td>wheat</td>\n",
              "      <td>1</td>\n",
              "      <td>16.5</td>\n",
              "      <td>Yes</td>\n",
              "      <td>Yes</td>\n",
              "      <td>1</td>\n",
              "      <td>0</td>\n",
              "      <td>3</td>\n",
              "      <td>5</td>\n",
              "      <td>2</td>\n",
              "      <td>1</td>\n",
              "      <td>1</td>\n",
              "    </tr>\n",
              "    <tr>\n",
              "      <th>1</th>\n",
              "      <td>39.462776</td>\n",
              "      <td>-95.536367</td>\n",
              "      <td>100</td>\n",
              "      <td>rice</td>\n",
              "      <td>2</td>\n",
              "      <td>50.0</td>\n",
              "      <td>Yes</td>\n",
              "      <td>Yes</td>\n",
              "      <td>3</td>\n",
              "      <td>50</td>\n",
              "      <td>10</td>\n",
              "      <td>5</td>\n",
              "      <td>10</td>\n",
              "      <td>2</td>\n",
              "      <td>5</td>\n",
              "    </tr>\n",
              "  </tbody>\n",
              "</table>\n",
              "</div>\n",
              "      <button class=\"colab-df-convert\" onclick=\"convertToInteractive('df-6d663fa0-0f44-4203-b621-279082f0662a')\"\n",
              "              title=\"Convert this dataframe to an interactive table.\"\n",
              "              style=\"display:none;\">\n",
              "        \n",
              "  <svg xmlns=\"http://www.w3.org/2000/svg\" height=\"24px\"viewBox=\"0 0 24 24\"\n",
              "       width=\"24px\">\n",
              "    <path d=\"M0 0h24v24H0V0z\" fill=\"none\"/>\n",
              "    <path d=\"M18.56 5.44l.94 2.06.94-2.06 2.06-.94-2.06-.94-.94-2.06-.94 2.06-2.06.94zm-11 1L8.5 8.5l.94-2.06 2.06-.94-2.06-.94L8.5 2.5l-.94 2.06-2.06.94zm10 10l.94 2.06.94-2.06 2.06-.94-2.06-.94-.94-2.06-.94 2.06-2.06.94z\"/><path d=\"M17.41 7.96l-1.37-1.37c-.4-.4-.92-.59-1.43-.59-.52 0-1.04.2-1.43.59L10.3 9.45l-7.72 7.72c-.78.78-.78 2.05 0 2.83L4 21.41c.39.39.9.59 1.41.59.51 0 1.02-.2 1.41-.59l7.78-7.78 2.81-2.81c.8-.78.8-2.07 0-2.86zM5.41 20L4 18.59l7.72-7.72 1.47 1.35L5.41 20z\"/>\n",
              "  </svg>\n",
              "      </button>\n",
              "      \n",
              "  <style>\n",
              "    .colab-df-container {\n",
              "      display:flex;\n",
              "      flex-wrap:wrap;\n",
              "      gap: 12px;\n",
              "    }\n",
              "\n",
              "    .colab-df-convert {\n",
              "      background-color: #E8F0FE;\n",
              "      border: none;\n",
              "      border-radius: 50%;\n",
              "      cursor: pointer;\n",
              "      display: none;\n",
              "      fill: #1967D2;\n",
              "      height: 32px;\n",
              "      padding: 0 0 0 0;\n",
              "      width: 32px;\n",
              "    }\n",
              "\n",
              "    .colab-df-convert:hover {\n",
              "      background-color: #E2EBFA;\n",
              "      box-shadow: 0px 1px 2px rgba(60, 64, 67, 0.3), 0px 1px 3px 1px rgba(60, 64, 67, 0.15);\n",
              "      fill: #174EA6;\n",
              "    }\n",
              "\n",
              "    [theme=dark] .colab-df-convert {\n",
              "      background-color: #3B4455;\n",
              "      fill: #D2E3FC;\n",
              "    }\n",
              "\n",
              "    [theme=dark] .colab-df-convert:hover {\n",
              "      background-color: #434B5C;\n",
              "      box-shadow: 0px 1px 3px 1px rgba(0, 0, 0, 0.15);\n",
              "      filter: drop-shadow(0px 1px 2px rgba(0, 0, 0, 0.3));\n",
              "      fill: #FFFFFF;\n",
              "    }\n",
              "  </style>\n",
              "\n",
              "      <script>\n",
              "        const buttonEl =\n",
              "          document.querySelector('#df-6d663fa0-0f44-4203-b621-279082f0662a button.colab-df-convert');\n",
              "        buttonEl.style.display =\n",
              "          google.colab.kernel.accessAllowed ? 'block' : 'none';\n",
              "\n",
              "        async function convertToInteractive(key) {\n",
              "          const element = document.querySelector('#df-6d663fa0-0f44-4203-b621-279082f0662a');\n",
              "          const dataTable =\n",
              "            await google.colab.kernel.invokeFunction('convertToInteractive',\n",
              "                                                     [key], {});\n",
              "          if (!dataTable) return;\n",
              "\n",
              "          const docLinkHtml = 'Like what you see? Visit the ' +\n",
              "            '<a target=\"_blank\" href=https://colab.research.google.com/notebooks/data_table.ipynb>data table notebook</a>'\n",
              "            + ' to learn more about interactive tables.';\n",
              "          element.innerHTML = '';\n",
              "          dataTable['output_type'] = 'display_data';\n",
              "          await google.colab.output.renderOutput(dataTable, element);\n",
              "          const docLink = document.createElement('div');\n",
              "          docLink.innerHTML = docLinkHtml;\n",
              "          element.appendChild(docLink);\n",
              "        }\n",
              "      </script>\n",
              "    </div>\n",
              "  </div>\n",
              "  "
            ]
          },
          "metadata": {},
          "execution_count": 38
        }
      ]
    },
    {
      "cell_type": "markdown",
      "source": [
        "# other features we can include in this df\n",
        "\n",
        "* Electricity consumption for irrigation?\n",
        "* Whether they are burning any crop residue?\n",
        "* Leaching or terrain/ TOPOGRAPHY?\n",
        "* Sequestration\n",
        "* Land use change"
      ],
      "metadata": {
        "id": "4PIplJmL0V1s"
      }
    },
    {
      "cell_type": "markdown",
      "source": [
        "# Calculate the emissions"
      ],
      "metadata": {
        "id": "8IH8J4A10-ue"
      }
    },
    {
      "cell_type": "markdown",
      "source": [
        "Few points to make a note of:\n",
        "\n",
        "1. Largest emissions are from lime usage - CO2\n",
        "2. Second largest emissions come from urea use - CO2\n",
        "3. Third largest emittors are usually other fertilizers - N2O\n",
        "4. Fuel or crop burining- CO2 or N2O\n",
        "5. Methane emission comes from residue burning"
      ],
      "metadata": {
        "id": "iCBjfIyC6vWW"
      }
    },
    {
      "cell_type": "markdown",
      "source": [
        "N content of fertiliser\t\n",
        "* MAP\t10%\n",
        "* DAP\t18%\n",
        "* Urea\t46%\n",
        "* SOA\t21%\n",
        "* Urea-Ammonium Nitrate (UAN)\t32%\n",
        "* Ammonium Nitrate (AN)\t33.7%\n",
        "* Calcium Ammonium Nitrate (CAN)\t27%\n",
        "\n",
        "\n",
        "Reference: (Wood & Cowie, 2004)"
      ],
      "metadata": {
        "id": "Olw6OT9N87se"
      }
    },
    {
      "cell_type": "markdown",
      "source": [
        "Annual N2O emissions from the addition of synthetic fertiliser (E)\tE = (M x EF x Cg)"
      ],
      "metadata": {
        "id": "fP7RYgUI9f7Q"
      }
    },
    {
      "cell_type": "markdown",
      "source": [
        "M: Amount of synthetic fertilizer applied (in a specific unit, such as kilograms or metric tons of fertilizer).\n",
        "\n",
        "EF: Emission factor, which represents the amount of N2O emitted per unit of fertilizer applied. It is typically expressed as a percentage. For example, if the EF is 1%, it means that 1% of the applied fertilizer is emitted as N2O.\n",
        "\n",
        "Cg: Conversion factor, which converts the nitrogen content of the fertilizer to N2O emissions. This factor takes into account the molecular weight and the proportion of nitrogen in N2O."
      ],
      "metadata": {
        "id": "aTAdunGy9it6"
      }
    },
    {
      "cell_type": "markdown",
      "source": [
        "take Cg as 1.57"
      ],
      "metadata": {
        "id": "6TOQLDrFEALd"
      }
    },
    {
      "cell_type": "markdown",
      "source": [
        "Production system |\tEF (<600mm rain)\t| EF (>600mm rain)|\n",
        "------------------|-------------------|-----------------|\n",
        "Non-Irrigated Crop|\t0.0005\t|0.0085|\n",
        "Irrigated Crop|\t0.0085|\t0.0085|\n",
        "Sugar cane|\t0.0199\t|0.0199|\n",
        "Cotton|\t0.0055|\t0.0055|\n",
        "Horticulture|\t0.0085|\t0.0085|"
      ],
      "metadata": {
        "id": "A8k6Hoza9zvh"
      }
    },
    {
      "cell_type": "code",
      "source": [
        "df['N_MAP'] = 0.10 * df['MAP']\n",
        "df['N_DAP'] = 0.18 * df['DAP']\n",
        "df['N_SOA'] = 0.21 * df['SOA']\n",
        "df['N_Urea'] = 0.46 * df['Urea']\n",
        "df['N_SSP'] = 0.21 * df['SSP']\n",
        "df['N_UAN'] = 0.32 * df['UAN']"
      ],
      "metadata": {
        "id": "r9TczwNo1nvH"
      },
      "execution_count": 39,
      "outputs": []
    },
    {
      "cell_type": "code",
      "source": [
        "df.columns"
      ],
      "metadata": {
        "colab": {
          "base_uri": "https://localhost:8080/"
        },
        "id": "V2c3GxVG1ntx",
        "outputId": "9dab7b56-af80-46e6-f1b0-13d827fc96d3"
      },
      "execution_count": 44,
      "outputs": [
        {
          "output_type": "execute_result",
          "data": {
            "text/plain": [
              "Index(['Latitude', 'Longitude', 'Area', 'Crop', 'Region', 'Lime_usage',\n",
              "       'tillage', 'Machinery', 'Mach_number', 'MAP', 'DAP', 'SOA', 'Urea',\n",
              "       'SSP', 'UAN', 'N_MAP', 'N_DAP', 'N_SOA', 'N_Urea', 'N_SSP', 'N_UAN'],\n",
              "      dtype='object')"
            ]
          },
          "metadata": {},
          "execution_count": 44
        }
      ]
    },
    {
      "cell_type": "markdown",
      "source": [
        "# calculate the mass of fertilizers:\n",
        "\n"
      ],
      "metadata": {
        "id": "HOGLbRTICqD6"
      }
    },
    {
      "cell_type": "markdown",
      "source": [
        "\"Gg N\" specifically refers to gigagrams of nitrogen"
      ],
      "metadata": {
        "id": "TlcHEVhVDMhi"
      }
    },
    {
      "cell_type": "code",
      "source": [
        "df['mass_of_fertilizer'] = df['Area'] * (df['N_DAP'] + df['N_MAP'] + df['N_SOA'] + df['N_Urea'] + df['N_SSP'] + df['N_UAN']) * (10**-6)\n",
        "df"
      ],
      "metadata": {
        "colab": {
          "base_uri": "https://localhost:8080/",
          "height": 205
        },
        "id": "V6RCNeFm1nrQ",
        "outputId": "81676ab0-a547-4721-fac9-3f8ae35987db"
      },
      "execution_count": 49,
      "outputs": [
        {
          "output_type": "execute_result",
          "data": {
            "text/plain": [
              "    Latitude  Longitude  Area   Crop  Region  Lime_usage tillage Machinery  \\\n",
              "0  30.117348 -83.617222    30  wheat       1        16.5     Yes       Yes   \n",
              "1  39.462776 -95.536367   100   rice       2        50.0     Yes       Yes   \n",
              "\n",
              "   Mach_number  MAP  ...  Urea  SSP  UAN  N_MAP  N_DAP  N_SOA  N_Urea  N_SSP  \\\n",
              "0            1    0  ...     2    1    1    0.0   0.54   1.05    0.92   0.21   \n",
              "1            3   50  ...    10    2    5    5.0   1.80   1.05    4.60   0.42   \n",
              "\n",
              "   N_UAN  mass_of_fertilizer  \n",
              "0   0.32            0.000091  \n",
              "1   1.60            0.001447  \n",
              "\n",
              "[2 rows x 22 columns]"
            ],
            "text/html": [
              "\n",
              "  <div id=\"df-c68cdf9d-ba9a-4d12-a0f6-ca9c5c10dd8a\">\n",
              "    <div class=\"colab-df-container\">\n",
              "      <div>\n",
              "<style scoped>\n",
              "    .dataframe tbody tr th:only-of-type {\n",
              "        vertical-align: middle;\n",
              "    }\n",
              "\n",
              "    .dataframe tbody tr th {\n",
              "        vertical-align: top;\n",
              "    }\n",
              "\n",
              "    .dataframe thead th {\n",
              "        text-align: right;\n",
              "    }\n",
              "</style>\n",
              "<table border=\"1\" class=\"dataframe\">\n",
              "  <thead>\n",
              "    <tr style=\"text-align: right;\">\n",
              "      <th></th>\n",
              "      <th>Latitude</th>\n",
              "      <th>Longitude</th>\n",
              "      <th>Area</th>\n",
              "      <th>Crop</th>\n",
              "      <th>Region</th>\n",
              "      <th>Lime_usage</th>\n",
              "      <th>tillage</th>\n",
              "      <th>Machinery</th>\n",
              "      <th>Mach_number</th>\n",
              "      <th>MAP</th>\n",
              "      <th>...</th>\n",
              "      <th>Urea</th>\n",
              "      <th>SSP</th>\n",
              "      <th>UAN</th>\n",
              "      <th>N_MAP</th>\n",
              "      <th>N_DAP</th>\n",
              "      <th>N_SOA</th>\n",
              "      <th>N_Urea</th>\n",
              "      <th>N_SSP</th>\n",
              "      <th>N_UAN</th>\n",
              "      <th>mass_of_fertilizer</th>\n",
              "    </tr>\n",
              "  </thead>\n",
              "  <tbody>\n",
              "    <tr>\n",
              "      <th>0</th>\n",
              "      <td>30.117348</td>\n",
              "      <td>-83.617222</td>\n",
              "      <td>30</td>\n",
              "      <td>wheat</td>\n",
              "      <td>1</td>\n",
              "      <td>16.5</td>\n",
              "      <td>Yes</td>\n",
              "      <td>Yes</td>\n",
              "      <td>1</td>\n",
              "      <td>0</td>\n",
              "      <td>...</td>\n",
              "      <td>2</td>\n",
              "      <td>1</td>\n",
              "      <td>1</td>\n",
              "      <td>0.0</td>\n",
              "      <td>0.54</td>\n",
              "      <td>1.05</td>\n",
              "      <td>0.92</td>\n",
              "      <td>0.21</td>\n",
              "      <td>0.32</td>\n",
              "      <td>0.000091</td>\n",
              "    </tr>\n",
              "    <tr>\n",
              "      <th>1</th>\n",
              "      <td>39.462776</td>\n",
              "      <td>-95.536367</td>\n",
              "      <td>100</td>\n",
              "      <td>rice</td>\n",
              "      <td>2</td>\n",
              "      <td>50.0</td>\n",
              "      <td>Yes</td>\n",
              "      <td>Yes</td>\n",
              "      <td>3</td>\n",
              "      <td>50</td>\n",
              "      <td>...</td>\n",
              "      <td>10</td>\n",
              "      <td>2</td>\n",
              "      <td>5</td>\n",
              "      <td>5.0</td>\n",
              "      <td>1.80</td>\n",
              "      <td>1.05</td>\n",
              "      <td>4.60</td>\n",
              "      <td>0.42</td>\n",
              "      <td>1.60</td>\n",
              "      <td>0.001447</td>\n",
              "    </tr>\n",
              "  </tbody>\n",
              "</table>\n",
              "<p>2 rows × 22 columns</p>\n",
              "</div>\n",
              "      <button class=\"colab-df-convert\" onclick=\"convertToInteractive('df-c68cdf9d-ba9a-4d12-a0f6-ca9c5c10dd8a')\"\n",
              "              title=\"Convert this dataframe to an interactive table.\"\n",
              "              style=\"display:none;\">\n",
              "        \n",
              "  <svg xmlns=\"http://www.w3.org/2000/svg\" height=\"24px\"viewBox=\"0 0 24 24\"\n",
              "       width=\"24px\">\n",
              "    <path d=\"M0 0h24v24H0V0z\" fill=\"none\"/>\n",
              "    <path d=\"M18.56 5.44l.94 2.06.94-2.06 2.06-.94-2.06-.94-.94-2.06-.94 2.06-2.06.94zm-11 1L8.5 8.5l.94-2.06 2.06-.94-2.06-.94L8.5 2.5l-.94 2.06-2.06.94zm10 10l.94 2.06.94-2.06 2.06-.94-2.06-.94-.94-2.06-.94 2.06-2.06.94z\"/><path d=\"M17.41 7.96l-1.37-1.37c-.4-.4-.92-.59-1.43-.59-.52 0-1.04.2-1.43.59L10.3 9.45l-7.72 7.72c-.78.78-.78 2.05 0 2.83L4 21.41c.39.39.9.59 1.41.59.51 0 1.02-.2 1.41-.59l7.78-7.78 2.81-2.81c.8-.78.8-2.07 0-2.86zM5.41 20L4 18.59l7.72-7.72 1.47 1.35L5.41 20z\"/>\n",
              "  </svg>\n",
              "      </button>\n",
              "      \n",
              "  <style>\n",
              "    .colab-df-container {\n",
              "      display:flex;\n",
              "      flex-wrap:wrap;\n",
              "      gap: 12px;\n",
              "    }\n",
              "\n",
              "    .colab-df-convert {\n",
              "      background-color: #E8F0FE;\n",
              "      border: none;\n",
              "      border-radius: 50%;\n",
              "      cursor: pointer;\n",
              "      display: none;\n",
              "      fill: #1967D2;\n",
              "      height: 32px;\n",
              "      padding: 0 0 0 0;\n",
              "      width: 32px;\n",
              "    }\n",
              "\n",
              "    .colab-df-convert:hover {\n",
              "      background-color: #E2EBFA;\n",
              "      box-shadow: 0px 1px 2px rgba(60, 64, 67, 0.3), 0px 1px 3px 1px rgba(60, 64, 67, 0.15);\n",
              "      fill: #174EA6;\n",
              "    }\n",
              "\n",
              "    [theme=dark] .colab-df-convert {\n",
              "      background-color: #3B4455;\n",
              "      fill: #D2E3FC;\n",
              "    }\n",
              "\n",
              "    [theme=dark] .colab-df-convert:hover {\n",
              "      background-color: #434B5C;\n",
              "      box-shadow: 0px 1px 3px 1px rgba(0, 0, 0, 0.15);\n",
              "      filter: drop-shadow(0px 1px 2px rgba(0, 0, 0, 0.3));\n",
              "      fill: #FFFFFF;\n",
              "    }\n",
              "  </style>\n",
              "\n",
              "      <script>\n",
              "        const buttonEl =\n",
              "          document.querySelector('#df-c68cdf9d-ba9a-4d12-a0f6-ca9c5c10dd8a button.colab-df-convert');\n",
              "        buttonEl.style.display =\n",
              "          google.colab.kernel.accessAllowed ? 'block' : 'none';\n",
              "\n",
              "        async function convertToInteractive(key) {\n",
              "          const element = document.querySelector('#df-c68cdf9d-ba9a-4d12-a0f6-ca9c5c10dd8a');\n",
              "          const dataTable =\n",
              "            await google.colab.kernel.invokeFunction('convertToInteractive',\n",
              "                                                     [key], {});\n",
              "          if (!dataTable) return;\n",
              "\n",
              "          const docLinkHtml = 'Like what you see? Visit the ' +\n",
              "            '<a target=\"_blank\" href=https://colab.research.google.com/notebooks/data_table.ipynb>data table notebook</a>'\n",
              "            + ' to learn more about interactive tables.';\n",
              "          element.innerHTML = '';\n",
              "          dataTable['output_type'] = 'display_data';\n",
              "          await google.colab.output.renderOutput(dataTable, element);\n",
              "          const docLink = document.createElement('div');\n",
              "          docLink.innerHTML = docLinkHtml;\n",
              "          element.appendChild(docLink);\n",
              "        }\n",
              "      </script>\n",
              "    </div>\n",
              "  </div>\n",
              "  "
            ]
          },
          "metadata": {},
          "execution_count": 49
        }
      ]
    },
    {
      "cell_type": "markdown",
      "source": [
        "Annual N20 Emiessions"
      ],
      "metadata": {
        "id": "5uNNM6AzDhcZ"
      }
    },
    {
      "cell_type": "markdown",
      "source": [
        "Assume that all crops have irrigation facility"
      ],
      "metadata": {
        "id": "nsm9qX0SDww5"
      }
    },
    {
      "cell_type": "markdown",
      "source": [
        "Gas\tCO2-e\n",
        "* CO2\t1\n",
        "* CH4\t28\n",
        "* N2O\t265\n",
        "* CF4\t6,630\n",
        "* C2F6\t12,200\n",
        "* SF6\t22,800\n",
        "* NF3\t17,200\n",
        "\t\n",
        "Gas\tConversion Factor\n",
        "* CO2\t3.67\n",
        "* CH4\t1.33\n",
        "* N2O\t1.57\n",
        "* Nox\t3.29\n",
        "* CO\t2.33\n",
        "* CO2 Lime\t3.67\n",
        "* NMVOC\t1.17"
      ],
      "metadata": {
        "id": "RC5Es3h1FDE4"
      }
    },
    {
      "cell_type": "markdown",
      "source": [
        "The annual emission is in tonne CO2 equivalent/farm"
      ],
      "metadata": {
        "id": "AgM2YDWbFW-g"
      }
    },
    {
      "cell_type": "code",
      "source": [
        "df['Annual_N2O'] = df['mass_of_fertilizer'] * 0.0085 * 1.57 * (10**3) * 265 "
      ],
      "metadata": {
        "id": "-t4bABkr1npF"
      },
      "execution_count": 54,
      "outputs": []
    },
    {
      "cell_type": "code",
      "source": [
        "df"
      ],
      "metadata": {
        "colab": {
          "base_uri": "https://localhost:8080/",
          "height": 205
        },
        "id": "W5wyquh-1nmj",
        "outputId": "92abffb6-946e-45c0-d51e-06a0323a5dc2"
      },
      "execution_count": 55,
      "outputs": [
        {
          "output_type": "execute_result",
          "data": {
            "text/plain": [
              "    Latitude  Longitude  Area   Crop  Region  Lime_usage tillage Machinery  \\\n",
              "0  30.117348 -83.617222    30  wheat       1        16.5     Yes       Yes   \n",
              "1  39.462776 -95.536367   100   rice       2        50.0     Yes       Yes   \n",
              "\n",
              "   Mach_number  MAP  ...  SSP  UAN  N_MAP  N_DAP  N_SOA  N_Urea  N_SSP  N_UAN  \\\n",
              "0            1    0  ...    1    1    0.0   0.54   1.05    0.92   0.21   0.32   \n",
              "1            3   50  ...    2    5    5.0   1.80   1.05    4.60   0.42   1.60   \n",
              "\n",
              "   mass_of_fertilizer  Annual_N2O  \n",
              "0            0.000091    0.322522  \n",
              "1            0.001447    5.117207  \n",
              "\n",
              "[2 rows x 23 columns]"
            ],
            "text/html": [
              "\n",
              "  <div id=\"df-e9c4bde0-241f-444a-aef2-8783b99f6183\">\n",
              "    <div class=\"colab-df-container\">\n",
              "      <div>\n",
              "<style scoped>\n",
              "    .dataframe tbody tr th:only-of-type {\n",
              "        vertical-align: middle;\n",
              "    }\n",
              "\n",
              "    .dataframe tbody tr th {\n",
              "        vertical-align: top;\n",
              "    }\n",
              "\n",
              "    .dataframe thead th {\n",
              "        text-align: right;\n",
              "    }\n",
              "</style>\n",
              "<table border=\"1\" class=\"dataframe\">\n",
              "  <thead>\n",
              "    <tr style=\"text-align: right;\">\n",
              "      <th></th>\n",
              "      <th>Latitude</th>\n",
              "      <th>Longitude</th>\n",
              "      <th>Area</th>\n",
              "      <th>Crop</th>\n",
              "      <th>Region</th>\n",
              "      <th>Lime_usage</th>\n",
              "      <th>tillage</th>\n",
              "      <th>Machinery</th>\n",
              "      <th>Mach_number</th>\n",
              "      <th>MAP</th>\n",
              "      <th>...</th>\n",
              "      <th>SSP</th>\n",
              "      <th>UAN</th>\n",
              "      <th>N_MAP</th>\n",
              "      <th>N_DAP</th>\n",
              "      <th>N_SOA</th>\n",
              "      <th>N_Urea</th>\n",
              "      <th>N_SSP</th>\n",
              "      <th>N_UAN</th>\n",
              "      <th>mass_of_fertilizer</th>\n",
              "      <th>Annual_N2O</th>\n",
              "    </tr>\n",
              "  </thead>\n",
              "  <tbody>\n",
              "    <tr>\n",
              "      <th>0</th>\n",
              "      <td>30.117348</td>\n",
              "      <td>-83.617222</td>\n",
              "      <td>30</td>\n",
              "      <td>wheat</td>\n",
              "      <td>1</td>\n",
              "      <td>16.5</td>\n",
              "      <td>Yes</td>\n",
              "      <td>Yes</td>\n",
              "      <td>1</td>\n",
              "      <td>0</td>\n",
              "      <td>...</td>\n",
              "      <td>1</td>\n",
              "      <td>1</td>\n",
              "      <td>0.0</td>\n",
              "      <td>0.54</td>\n",
              "      <td>1.05</td>\n",
              "      <td>0.92</td>\n",
              "      <td>0.21</td>\n",
              "      <td>0.32</td>\n",
              "      <td>0.000091</td>\n",
              "      <td>0.322522</td>\n",
              "    </tr>\n",
              "    <tr>\n",
              "      <th>1</th>\n",
              "      <td>39.462776</td>\n",
              "      <td>-95.536367</td>\n",
              "      <td>100</td>\n",
              "      <td>rice</td>\n",
              "      <td>2</td>\n",
              "      <td>50.0</td>\n",
              "      <td>Yes</td>\n",
              "      <td>Yes</td>\n",
              "      <td>3</td>\n",
              "      <td>50</td>\n",
              "      <td>...</td>\n",
              "      <td>2</td>\n",
              "      <td>5</td>\n",
              "      <td>5.0</td>\n",
              "      <td>1.80</td>\n",
              "      <td>1.05</td>\n",
              "      <td>4.60</td>\n",
              "      <td>0.42</td>\n",
              "      <td>1.60</td>\n",
              "      <td>0.001447</td>\n",
              "      <td>5.117207</td>\n",
              "    </tr>\n",
              "  </tbody>\n",
              "</table>\n",
              "<p>2 rows × 23 columns</p>\n",
              "</div>\n",
              "      <button class=\"colab-df-convert\" onclick=\"convertToInteractive('df-e9c4bde0-241f-444a-aef2-8783b99f6183')\"\n",
              "              title=\"Convert this dataframe to an interactive table.\"\n",
              "              style=\"display:none;\">\n",
              "        \n",
              "  <svg xmlns=\"http://www.w3.org/2000/svg\" height=\"24px\"viewBox=\"0 0 24 24\"\n",
              "       width=\"24px\">\n",
              "    <path d=\"M0 0h24v24H0V0z\" fill=\"none\"/>\n",
              "    <path d=\"M18.56 5.44l.94 2.06.94-2.06 2.06-.94-2.06-.94-.94-2.06-.94 2.06-2.06.94zm-11 1L8.5 8.5l.94-2.06 2.06-.94-2.06-.94L8.5 2.5l-.94 2.06-2.06.94zm10 10l.94 2.06.94-2.06 2.06-.94-2.06-.94-.94-2.06-.94 2.06-2.06.94z\"/><path d=\"M17.41 7.96l-1.37-1.37c-.4-.4-.92-.59-1.43-.59-.52 0-1.04.2-1.43.59L10.3 9.45l-7.72 7.72c-.78.78-.78 2.05 0 2.83L4 21.41c.39.39.9.59 1.41.59.51 0 1.02-.2 1.41-.59l7.78-7.78 2.81-2.81c.8-.78.8-2.07 0-2.86zM5.41 20L4 18.59l7.72-7.72 1.47 1.35L5.41 20z\"/>\n",
              "  </svg>\n",
              "      </button>\n",
              "      \n",
              "  <style>\n",
              "    .colab-df-container {\n",
              "      display:flex;\n",
              "      flex-wrap:wrap;\n",
              "      gap: 12px;\n",
              "    }\n",
              "\n",
              "    .colab-df-convert {\n",
              "      background-color: #E8F0FE;\n",
              "      border: none;\n",
              "      border-radius: 50%;\n",
              "      cursor: pointer;\n",
              "      display: none;\n",
              "      fill: #1967D2;\n",
              "      height: 32px;\n",
              "      padding: 0 0 0 0;\n",
              "      width: 32px;\n",
              "    }\n",
              "\n",
              "    .colab-df-convert:hover {\n",
              "      background-color: #E2EBFA;\n",
              "      box-shadow: 0px 1px 2px rgba(60, 64, 67, 0.3), 0px 1px 3px 1px rgba(60, 64, 67, 0.15);\n",
              "      fill: #174EA6;\n",
              "    }\n",
              "\n",
              "    [theme=dark] .colab-df-convert {\n",
              "      background-color: #3B4455;\n",
              "      fill: #D2E3FC;\n",
              "    }\n",
              "\n",
              "    [theme=dark] .colab-df-convert:hover {\n",
              "      background-color: #434B5C;\n",
              "      box-shadow: 0px 1px 3px 1px rgba(0, 0, 0, 0.15);\n",
              "      filter: drop-shadow(0px 1px 2px rgba(0, 0, 0, 0.3));\n",
              "      fill: #FFFFFF;\n",
              "    }\n",
              "  </style>\n",
              "\n",
              "      <script>\n",
              "        const buttonEl =\n",
              "          document.querySelector('#df-e9c4bde0-241f-444a-aef2-8783b99f6183 button.colab-df-convert');\n",
              "        buttonEl.style.display =\n",
              "          google.colab.kernel.accessAllowed ? 'block' : 'none';\n",
              "\n",
              "        async function convertToInteractive(key) {\n",
              "          const element = document.querySelector('#df-e9c4bde0-241f-444a-aef2-8783b99f6183');\n",
              "          const dataTable =\n",
              "            await google.colab.kernel.invokeFunction('convertToInteractive',\n",
              "                                                     [key], {});\n",
              "          if (!dataTable) return;\n",
              "\n",
              "          const docLinkHtml = 'Like what you see? Visit the ' +\n",
              "            '<a target=\"_blank\" href=https://colab.research.google.com/notebooks/data_table.ipynb>data table notebook</a>'\n",
              "            + ' to learn more about interactive tables.';\n",
              "          element.innerHTML = '';\n",
              "          dataTable['output_type'] = 'display_data';\n",
              "          await google.colab.output.renderOutput(dataTable, element);\n",
              "          const docLink = document.createElement('div');\n",
              "          docLink.innerHTML = docLinkHtml;\n",
              "          element.appendChild(docLink);\n",
              "        }\n",
              "      </script>\n",
              "    </div>\n",
              "  </div>\n",
              "  "
            ]
          },
          "metadata": {},
          "execution_count": 55
        }
      ]
    },
    {
      "cell_type": "markdown",
      "source": [
        "# Caluclate the emissions from lime"
      ],
      "metadata": {
        "id": "2AGwOii9HDho"
      }
    },
    {
      "cell_type": "code",
      "source": [
        "fraction_of_limestone = 1\n",
        "fractional_purity_of_lime = 0.9\n",
        "fractional_purity_of_dolomite = 0.95\n",
        "ef_lime = 0.12\n",
        "ef_dolomite = 0.13\n",
        "cg = 3.67"
      ],
      "metadata": {
        "id": "kt0t3STJ1nkK"
      },
      "execution_count": 59,
      "outputs": []
    },
    {
      "cell_type": "code",
      "source": [
        "df['CO2_lime'] = ((df['Lime_usage'] * fraction_of_limestone * fractional_purity_of_lime * ef_lime) + \n",
        "                  (df['Lime_usage'] * (1 - fraction_of_limestone)*fractional_purity_of_lime*ef_lime)) * cg\n",
        "df"
      ],
      "metadata": {
        "colab": {
          "base_uri": "https://localhost:8080/",
          "height": 205
        },
        "id": "kslPG7d61nh2",
        "outputId": "bc1c70c1-1dc9-4109-ad1a-ce81ff704f16"
      },
      "execution_count": 62,
      "outputs": [
        {
          "output_type": "execute_result",
          "data": {
            "text/plain": [
              "    Latitude  Longitude  Area   Crop  Region  Lime_usage tillage Machinery  \\\n",
              "0  30.117348 -83.617222    30  wheat       1        16.5     Yes       Yes   \n",
              "1  39.462776 -95.536367   100   rice       2        50.0     Yes       Yes   \n",
              "\n",
              "   Mach_number  MAP  ...  UAN  N_MAP  N_DAP  N_SOA  N_Urea  N_SSP  N_UAN  \\\n",
              "0            1    0  ...    1    0.0   0.54   1.05    0.92   0.21   0.32   \n",
              "1            3   50  ...    5    5.0   1.80   1.05    4.60   0.42   1.60   \n",
              "\n",
              "   mass_of_fertilizer  Annual_N2O  CO2_lime  \n",
              "0            0.000091    0.322522   6.53994  \n",
              "1            0.001447    5.117207  19.81800  \n",
              "\n",
              "[2 rows x 24 columns]"
            ],
            "text/html": [
              "\n",
              "  <div id=\"df-c31a8f41-0d2b-4640-95f9-ec8d337aaaa4\">\n",
              "    <div class=\"colab-df-container\">\n",
              "      <div>\n",
              "<style scoped>\n",
              "    .dataframe tbody tr th:only-of-type {\n",
              "        vertical-align: middle;\n",
              "    }\n",
              "\n",
              "    .dataframe tbody tr th {\n",
              "        vertical-align: top;\n",
              "    }\n",
              "\n",
              "    .dataframe thead th {\n",
              "        text-align: right;\n",
              "    }\n",
              "</style>\n",
              "<table border=\"1\" class=\"dataframe\">\n",
              "  <thead>\n",
              "    <tr style=\"text-align: right;\">\n",
              "      <th></th>\n",
              "      <th>Latitude</th>\n",
              "      <th>Longitude</th>\n",
              "      <th>Area</th>\n",
              "      <th>Crop</th>\n",
              "      <th>Region</th>\n",
              "      <th>Lime_usage</th>\n",
              "      <th>tillage</th>\n",
              "      <th>Machinery</th>\n",
              "      <th>Mach_number</th>\n",
              "      <th>MAP</th>\n",
              "      <th>...</th>\n",
              "      <th>UAN</th>\n",
              "      <th>N_MAP</th>\n",
              "      <th>N_DAP</th>\n",
              "      <th>N_SOA</th>\n",
              "      <th>N_Urea</th>\n",
              "      <th>N_SSP</th>\n",
              "      <th>N_UAN</th>\n",
              "      <th>mass_of_fertilizer</th>\n",
              "      <th>Annual_N2O</th>\n",
              "      <th>CO2_lime</th>\n",
              "    </tr>\n",
              "  </thead>\n",
              "  <tbody>\n",
              "    <tr>\n",
              "      <th>0</th>\n",
              "      <td>30.117348</td>\n",
              "      <td>-83.617222</td>\n",
              "      <td>30</td>\n",
              "      <td>wheat</td>\n",
              "      <td>1</td>\n",
              "      <td>16.5</td>\n",
              "      <td>Yes</td>\n",
              "      <td>Yes</td>\n",
              "      <td>1</td>\n",
              "      <td>0</td>\n",
              "      <td>...</td>\n",
              "      <td>1</td>\n",
              "      <td>0.0</td>\n",
              "      <td>0.54</td>\n",
              "      <td>1.05</td>\n",
              "      <td>0.92</td>\n",
              "      <td>0.21</td>\n",
              "      <td>0.32</td>\n",
              "      <td>0.000091</td>\n",
              "      <td>0.322522</td>\n",
              "      <td>6.53994</td>\n",
              "    </tr>\n",
              "    <tr>\n",
              "      <th>1</th>\n",
              "      <td>39.462776</td>\n",
              "      <td>-95.536367</td>\n",
              "      <td>100</td>\n",
              "      <td>rice</td>\n",
              "      <td>2</td>\n",
              "      <td>50.0</td>\n",
              "      <td>Yes</td>\n",
              "      <td>Yes</td>\n",
              "      <td>3</td>\n",
              "      <td>50</td>\n",
              "      <td>...</td>\n",
              "      <td>5</td>\n",
              "      <td>5.0</td>\n",
              "      <td>1.80</td>\n",
              "      <td>1.05</td>\n",
              "      <td>4.60</td>\n",
              "      <td>0.42</td>\n",
              "      <td>1.60</td>\n",
              "      <td>0.001447</td>\n",
              "      <td>5.117207</td>\n",
              "      <td>19.81800</td>\n",
              "    </tr>\n",
              "  </tbody>\n",
              "</table>\n",
              "<p>2 rows × 24 columns</p>\n",
              "</div>\n",
              "      <button class=\"colab-df-convert\" onclick=\"convertToInteractive('df-c31a8f41-0d2b-4640-95f9-ec8d337aaaa4')\"\n",
              "              title=\"Convert this dataframe to an interactive table.\"\n",
              "              style=\"display:none;\">\n",
              "        \n",
              "  <svg xmlns=\"http://www.w3.org/2000/svg\" height=\"24px\"viewBox=\"0 0 24 24\"\n",
              "       width=\"24px\">\n",
              "    <path d=\"M0 0h24v24H0V0z\" fill=\"none\"/>\n",
              "    <path d=\"M18.56 5.44l.94 2.06.94-2.06 2.06-.94-2.06-.94-.94-2.06-.94 2.06-2.06.94zm-11 1L8.5 8.5l.94-2.06 2.06-.94-2.06-.94L8.5 2.5l-.94 2.06-2.06.94zm10 10l.94 2.06.94-2.06 2.06-.94-2.06-.94-.94-2.06-.94 2.06-2.06.94z\"/><path d=\"M17.41 7.96l-1.37-1.37c-.4-.4-.92-.59-1.43-.59-.52 0-1.04.2-1.43.59L10.3 9.45l-7.72 7.72c-.78.78-.78 2.05 0 2.83L4 21.41c.39.39.9.59 1.41.59.51 0 1.02-.2 1.41-.59l7.78-7.78 2.81-2.81c.8-.78.8-2.07 0-2.86zM5.41 20L4 18.59l7.72-7.72 1.47 1.35L5.41 20z\"/>\n",
              "  </svg>\n",
              "      </button>\n",
              "      \n",
              "  <style>\n",
              "    .colab-df-container {\n",
              "      display:flex;\n",
              "      flex-wrap:wrap;\n",
              "      gap: 12px;\n",
              "    }\n",
              "\n",
              "    .colab-df-convert {\n",
              "      background-color: #E8F0FE;\n",
              "      border: none;\n",
              "      border-radius: 50%;\n",
              "      cursor: pointer;\n",
              "      display: none;\n",
              "      fill: #1967D2;\n",
              "      height: 32px;\n",
              "      padding: 0 0 0 0;\n",
              "      width: 32px;\n",
              "    }\n",
              "\n",
              "    .colab-df-convert:hover {\n",
              "      background-color: #E2EBFA;\n",
              "      box-shadow: 0px 1px 2px rgba(60, 64, 67, 0.3), 0px 1px 3px 1px rgba(60, 64, 67, 0.15);\n",
              "      fill: #174EA6;\n",
              "    }\n",
              "\n",
              "    [theme=dark] .colab-df-convert {\n",
              "      background-color: #3B4455;\n",
              "      fill: #D2E3FC;\n",
              "    }\n",
              "\n",
              "    [theme=dark] .colab-df-convert:hover {\n",
              "      background-color: #434B5C;\n",
              "      box-shadow: 0px 1px 3px 1px rgba(0, 0, 0, 0.15);\n",
              "      filter: drop-shadow(0px 1px 2px rgba(0, 0, 0, 0.3));\n",
              "      fill: #FFFFFF;\n",
              "    }\n",
              "  </style>\n",
              "\n",
              "      <script>\n",
              "        const buttonEl =\n",
              "          document.querySelector('#df-c31a8f41-0d2b-4640-95f9-ec8d337aaaa4 button.colab-df-convert');\n",
              "        buttonEl.style.display =\n",
              "          google.colab.kernel.accessAllowed ? 'block' : 'none';\n",
              "\n",
              "        async function convertToInteractive(key) {\n",
              "          const element = document.querySelector('#df-c31a8f41-0d2b-4640-95f9-ec8d337aaaa4');\n",
              "          const dataTable =\n",
              "            await google.colab.kernel.invokeFunction('convertToInteractive',\n",
              "                                                     [key], {});\n",
              "          if (!dataTable) return;\n",
              "\n",
              "          const docLinkHtml = 'Like what you see? Visit the ' +\n",
              "            '<a target=\"_blank\" href=https://colab.research.google.com/notebooks/data_table.ipynb>data table notebook</a>'\n",
              "            + ' to learn more about interactive tables.';\n",
              "          element.innerHTML = '';\n",
              "          dataTable['output_type'] = 'display_data';\n",
              "          await google.colab.output.renderOutput(dataTable, element);\n",
              "          const docLink = document.createElement('div');\n",
              "          docLink.innerHTML = docLinkHtml;\n",
              "          element.appendChild(docLink);\n",
              "        }\n",
              "      </script>\n",
              "    </div>\n",
              "  </div>\n",
              "  "
            ]
          },
          "metadata": {},
          "execution_count": 62
        }
      ]
    },
    {
      "cell_type": "markdown",
      "source": [
        "# emissions from urea application"
      ],
      "metadata": {
        "id": "KSPeA4ZUJmjJ"
      }
    },
    {
      "cell_type": "markdown",
      "source": [
        "$M = (M x EF x C)/1000$"
      ],
      "metadata": {
        "id": "-w1rJK_OJpeq"
      }
    },
    {
      "cell_type": "code",
      "source": [
        "ef_urea = 0.20\n",
        "c_urea = 3.67"
      ],
      "metadata": {
        "id": "tu7_NWLSJpPB"
      },
      "execution_count": 67,
      "outputs": []
    },
    {
      "cell_type": "code",
      "source": [
        "df['Urea_CO2'] = df['Urea'] * ef_urea * c_urea\n",
        "df"
      ],
      "metadata": {
        "colab": {
          "base_uri": "https://localhost:8080/",
          "height": 205
        },
        "id": "Wj0xDHa-JpMn",
        "outputId": "701ad7ca-b721-4d7f-8d53-ae5c049855d1"
      },
      "execution_count": 69,
      "outputs": [
        {
          "output_type": "execute_result",
          "data": {
            "text/plain": [
              "    Latitude  Longitude  Area   Crop  Region  Lime_usage tillage Machinery  \\\n",
              "0  30.117348 -83.617222    30  wheat       1        16.5     Yes       Yes   \n",
              "1  39.462776 -95.536367   100   rice       2        50.0     Yes       Yes   \n",
              "\n",
              "   Mach_number  MAP  ...  N_MAP  N_DAP  N_SOA  N_Urea  N_SSP  N_UAN  \\\n",
              "0            1    0  ...    0.0   0.54   1.05    0.92   0.21   0.32   \n",
              "1            3   50  ...    5.0   1.80   1.05    4.60   0.42   1.60   \n",
              "\n",
              "   mass_of_fertilizer  Annual_N2O  CO2_lime  Urea_CO2  \n",
              "0            0.000091    0.322522   6.53994     1.468  \n",
              "1            0.001447    5.117207  19.81800     7.340  \n",
              "\n",
              "[2 rows x 25 columns]"
            ],
            "text/html": [
              "\n",
              "  <div id=\"df-c1b417b1-9f0d-4850-930f-7395f4747cde\">\n",
              "    <div class=\"colab-df-container\">\n",
              "      <div>\n",
              "<style scoped>\n",
              "    .dataframe tbody tr th:only-of-type {\n",
              "        vertical-align: middle;\n",
              "    }\n",
              "\n",
              "    .dataframe tbody tr th {\n",
              "        vertical-align: top;\n",
              "    }\n",
              "\n",
              "    .dataframe thead th {\n",
              "        text-align: right;\n",
              "    }\n",
              "</style>\n",
              "<table border=\"1\" class=\"dataframe\">\n",
              "  <thead>\n",
              "    <tr style=\"text-align: right;\">\n",
              "      <th></th>\n",
              "      <th>Latitude</th>\n",
              "      <th>Longitude</th>\n",
              "      <th>Area</th>\n",
              "      <th>Crop</th>\n",
              "      <th>Region</th>\n",
              "      <th>Lime_usage</th>\n",
              "      <th>tillage</th>\n",
              "      <th>Machinery</th>\n",
              "      <th>Mach_number</th>\n",
              "      <th>MAP</th>\n",
              "      <th>...</th>\n",
              "      <th>N_MAP</th>\n",
              "      <th>N_DAP</th>\n",
              "      <th>N_SOA</th>\n",
              "      <th>N_Urea</th>\n",
              "      <th>N_SSP</th>\n",
              "      <th>N_UAN</th>\n",
              "      <th>mass_of_fertilizer</th>\n",
              "      <th>Annual_N2O</th>\n",
              "      <th>CO2_lime</th>\n",
              "      <th>Urea_CO2</th>\n",
              "    </tr>\n",
              "  </thead>\n",
              "  <tbody>\n",
              "    <tr>\n",
              "      <th>0</th>\n",
              "      <td>30.117348</td>\n",
              "      <td>-83.617222</td>\n",
              "      <td>30</td>\n",
              "      <td>wheat</td>\n",
              "      <td>1</td>\n",
              "      <td>16.5</td>\n",
              "      <td>Yes</td>\n",
              "      <td>Yes</td>\n",
              "      <td>1</td>\n",
              "      <td>0</td>\n",
              "      <td>...</td>\n",
              "      <td>0.0</td>\n",
              "      <td>0.54</td>\n",
              "      <td>1.05</td>\n",
              "      <td>0.92</td>\n",
              "      <td>0.21</td>\n",
              "      <td>0.32</td>\n",
              "      <td>0.000091</td>\n",
              "      <td>0.322522</td>\n",
              "      <td>6.53994</td>\n",
              "      <td>1.468</td>\n",
              "    </tr>\n",
              "    <tr>\n",
              "      <th>1</th>\n",
              "      <td>39.462776</td>\n",
              "      <td>-95.536367</td>\n",
              "      <td>100</td>\n",
              "      <td>rice</td>\n",
              "      <td>2</td>\n",
              "      <td>50.0</td>\n",
              "      <td>Yes</td>\n",
              "      <td>Yes</td>\n",
              "      <td>3</td>\n",
              "      <td>50</td>\n",
              "      <td>...</td>\n",
              "      <td>5.0</td>\n",
              "      <td>1.80</td>\n",
              "      <td>1.05</td>\n",
              "      <td>4.60</td>\n",
              "      <td>0.42</td>\n",
              "      <td>1.60</td>\n",
              "      <td>0.001447</td>\n",
              "      <td>5.117207</td>\n",
              "      <td>19.81800</td>\n",
              "      <td>7.340</td>\n",
              "    </tr>\n",
              "  </tbody>\n",
              "</table>\n",
              "<p>2 rows × 25 columns</p>\n",
              "</div>\n",
              "      <button class=\"colab-df-convert\" onclick=\"convertToInteractive('df-c1b417b1-9f0d-4850-930f-7395f4747cde')\"\n",
              "              title=\"Convert this dataframe to an interactive table.\"\n",
              "              style=\"display:none;\">\n",
              "        \n",
              "  <svg xmlns=\"http://www.w3.org/2000/svg\" height=\"24px\"viewBox=\"0 0 24 24\"\n",
              "       width=\"24px\">\n",
              "    <path d=\"M0 0h24v24H0V0z\" fill=\"none\"/>\n",
              "    <path d=\"M18.56 5.44l.94 2.06.94-2.06 2.06-.94-2.06-.94-.94-2.06-.94 2.06-2.06.94zm-11 1L8.5 8.5l.94-2.06 2.06-.94-2.06-.94L8.5 2.5l-.94 2.06-2.06.94zm10 10l.94 2.06.94-2.06 2.06-.94-2.06-.94-.94-2.06-.94 2.06-2.06.94z\"/><path d=\"M17.41 7.96l-1.37-1.37c-.4-.4-.92-.59-1.43-.59-.52 0-1.04.2-1.43.59L10.3 9.45l-7.72 7.72c-.78.78-.78 2.05 0 2.83L4 21.41c.39.39.9.59 1.41.59.51 0 1.02-.2 1.41-.59l7.78-7.78 2.81-2.81c.8-.78.8-2.07 0-2.86zM5.41 20L4 18.59l7.72-7.72 1.47 1.35L5.41 20z\"/>\n",
              "  </svg>\n",
              "      </button>\n",
              "      \n",
              "  <style>\n",
              "    .colab-df-container {\n",
              "      display:flex;\n",
              "      flex-wrap:wrap;\n",
              "      gap: 12px;\n",
              "    }\n",
              "\n",
              "    .colab-df-convert {\n",
              "      background-color: #E8F0FE;\n",
              "      border: none;\n",
              "      border-radius: 50%;\n",
              "      cursor: pointer;\n",
              "      display: none;\n",
              "      fill: #1967D2;\n",
              "      height: 32px;\n",
              "      padding: 0 0 0 0;\n",
              "      width: 32px;\n",
              "    }\n",
              "\n",
              "    .colab-df-convert:hover {\n",
              "      background-color: #E2EBFA;\n",
              "      box-shadow: 0px 1px 2px rgba(60, 64, 67, 0.3), 0px 1px 3px 1px rgba(60, 64, 67, 0.15);\n",
              "      fill: #174EA6;\n",
              "    }\n",
              "\n",
              "    [theme=dark] .colab-df-convert {\n",
              "      background-color: #3B4455;\n",
              "      fill: #D2E3FC;\n",
              "    }\n",
              "\n",
              "    [theme=dark] .colab-df-convert:hover {\n",
              "      background-color: #434B5C;\n",
              "      box-shadow: 0px 1px 3px 1px rgba(0, 0, 0, 0.15);\n",
              "      filter: drop-shadow(0px 1px 2px rgba(0, 0, 0, 0.3));\n",
              "      fill: #FFFFFF;\n",
              "    }\n",
              "  </style>\n",
              "\n",
              "      <script>\n",
              "        const buttonEl =\n",
              "          document.querySelector('#df-c1b417b1-9f0d-4850-930f-7395f4747cde button.colab-df-convert');\n",
              "        buttonEl.style.display =\n",
              "          google.colab.kernel.accessAllowed ? 'block' : 'none';\n",
              "\n",
              "        async function convertToInteractive(key) {\n",
              "          const element = document.querySelector('#df-c1b417b1-9f0d-4850-930f-7395f4747cde');\n",
              "          const dataTable =\n",
              "            await google.colab.kernel.invokeFunction('convertToInteractive',\n",
              "                                                     [key], {});\n",
              "          if (!dataTable) return;\n",
              "\n",
              "          const docLinkHtml = 'Like what you see? Visit the ' +\n",
              "            '<a target=\"_blank\" href=https://colab.research.google.com/notebooks/data_table.ipynb>data table notebook</a>'\n",
              "            + ' to learn more about interactive tables.';\n",
              "          element.innerHTML = '';\n",
              "          dataTable['output_type'] = 'display_data';\n",
              "          await google.colab.output.renderOutput(dataTable, element);\n",
              "          const docLink = document.createElement('div');\n",
              "          docLink.innerHTML = docLinkHtml;\n",
              "          element.appendChild(docLink);\n",
              "        }\n",
              "      </script>\n",
              "    </div>\n",
              "  </div>\n",
              "  "
            ]
          },
          "metadata": {},
          "execution_count": 69
        }
      ]
    },
    {
      "cell_type": "markdown",
      "source": [
        "# emissions from machinery"
      ],
      "metadata": {
        "id": "_AuB4Ta0LeDF"
      }
    },
    {
      "cell_type": "markdown",
      "source": [
        "1 tractor of 300 Horse power operating 200 Hr per year generates rougly 21 CO2t equivalent"
      ],
      "metadata": {
        "id": "rvt3yvqcL18K"
      }
    },
    {
      "cell_type": "markdown",
      "source": [
        "One more input how many hours are we operating the machine"
      ],
      "metadata": {
        "id": "9iYXrtlTL_-V"
      }
    },
    {
      "cell_type": "code",
      "source": [
        "df['Total_emissions'] = df['Annual_N2O'] + df['CO2_lime'] + df['Urea_CO2']"
      ],
      "metadata": {
        "id": "K_ClZVgOL0vA"
      },
      "execution_count": 72,
      "outputs": []
    },
    {
      "cell_type": "code",
      "source": [
        "df"
      ],
      "metadata": {
        "colab": {
          "base_uri": "https://localhost:8080/",
          "height": 205
        },
        "id": "m0zZ_JDIJpKH",
        "outputId": "aa774217-8fc9-48b3-e2e8-10ce2730c9b1"
      },
      "execution_count": 73,
      "outputs": [
        {
          "output_type": "execute_result",
          "data": {
            "text/plain": [
              "    Latitude  Longitude  Area   Crop  Region  Lime_usage tillage Machinery  \\\n",
              "0  30.117348 -83.617222    30  wheat       1        16.5     Yes       Yes   \n",
              "1  39.462776 -95.536367   100   rice       2        50.0     Yes       Yes   \n",
              "\n",
              "   Mach_number  MAP  ...  N_DAP  N_SOA  N_Urea  N_SSP  N_UAN  \\\n",
              "0            1    0  ...   0.54   1.05    0.92   0.21   0.32   \n",
              "1            3   50  ...   1.80   1.05    4.60   0.42   1.60   \n",
              "\n",
              "   mass_of_fertilizer  Annual_N2O  CO2_lime  Urea_CO2  Total_emissions  \n",
              "0            0.000091    0.322522   6.53994     1.468         8.330462  \n",
              "1            0.001447    5.117207  19.81800     7.340        32.275207  \n",
              "\n",
              "[2 rows x 26 columns]"
            ],
            "text/html": [
              "\n",
              "  <div id=\"df-57898133-c5fd-45ea-88f2-f4134193969b\">\n",
              "    <div class=\"colab-df-container\">\n",
              "      <div>\n",
              "<style scoped>\n",
              "    .dataframe tbody tr th:only-of-type {\n",
              "        vertical-align: middle;\n",
              "    }\n",
              "\n",
              "    .dataframe tbody tr th {\n",
              "        vertical-align: top;\n",
              "    }\n",
              "\n",
              "    .dataframe thead th {\n",
              "        text-align: right;\n",
              "    }\n",
              "</style>\n",
              "<table border=\"1\" class=\"dataframe\">\n",
              "  <thead>\n",
              "    <tr style=\"text-align: right;\">\n",
              "      <th></th>\n",
              "      <th>Latitude</th>\n",
              "      <th>Longitude</th>\n",
              "      <th>Area</th>\n",
              "      <th>Crop</th>\n",
              "      <th>Region</th>\n",
              "      <th>Lime_usage</th>\n",
              "      <th>tillage</th>\n",
              "      <th>Machinery</th>\n",
              "      <th>Mach_number</th>\n",
              "      <th>MAP</th>\n",
              "      <th>...</th>\n",
              "      <th>N_DAP</th>\n",
              "      <th>N_SOA</th>\n",
              "      <th>N_Urea</th>\n",
              "      <th>N_SSP</th>\n",
              "      <th>N_UAN</th>\n",
              "      <th>mass_of_fertilizer</th>\n",
              "      <th>Annual_N2O</th>\n",
              "      <th>CO2_lime</th>\n",
              "      <th>Urea_CO2</th>\n",
              "      <th>Total_emissions</th>\n",
              "    </tr>\n",
              "  </thead>\n",
              "  <tbody>\n",
              "    <tr>\n",
              "      <th>0</th>\n",
              "      <td>30.117348</td>\n",
              "      <td>-83.617222</td>\n",
              "      <td>30</td>\n",
              "      <td>wheat</td>\n",
              "      <td>1</td>\n",
              "      <td>16.5</td>\n",
              "      <td>Yes</td>\n",
              "      <td>Yes</td>\n",
              "      <td>1</td>\n",
              "      <td>0</td>\n",
              "      <td>...</td>\n",
              "      <td>0.54</td>\n",
              "      <td>1.05</td>\n",
              "      <td>0.92</td>\n",
              "      <td>0.21</td>\n",
              "      <td>0.32</td>\n",
              "      <td>0.000091</td>\n",
              "      <td>0.322522</td>\n",
              "      <td>6.53994</td>\n",
              "      <td>1.468</td>\n",
              "      <td>8.330462</td>\n",
              "    </tr>\n",
              "    <tr>\n",
              "      <th>1</th>\n",
              "      <td>39.462776</td>\n",
              "      <td>-95.536367</td>\n",
              "      <td>100</td>\n",
              "      <td>rice</td>\n",
              "      <td>2</td>\n",
              "      <td>50.0</td>\n",
              "      <td>Yes</td>\n",
              "      <td>Yes</td>\n",
              "      <td>3</td>\n",
              "      <td>50</td>\n",
              "      <td>...</td>\n",
              "      <td>1.80</td>\n",
              "      <td>1.05</td>\n",
              "      <td>4.60</td>\n",
              "      <td>0.42</td>\n",
              "      <td>1.60</td>\n",
              "      <td>0.001447</td>\n",
              "      <td>5.117207</td>\n",
              "      <td>19.81800</td>\n",
              "      <td>7.340</td>\n",
              "      <td>32.275207</td>\n",
              "    </tr>\n",
              "  </tbody>\n",
              "</table>\n",
              "<p>2 rows × 26 columns</p>\n",
              "</div>\n",
              "      <button class=\"colab-df-convert\" onclick=\"convertToInteractive('df-57898133-c5fd-45ea-88f2-f4134193969b')\"\n",
              "              title=\"Convert this dataframe to an interactive table.\"\n",
              "              style=\"display:none;\">\n",
              "        \n",
              "  <svg xmlns=\"http://www.w3.org/2000/svg\" height=\"24px\"viewBox=\"0 0 24 24\"\n",
              "       width=\"24px\">\n",
              "    <path d=\"M0 0h24v24H0V0z\" fill=\"none\"/>\n",
              "    <path d=\"M18.56 5.44l.94 2.06.94-2.06 2.06-.94-2.06-.94-.94-2.06-.94 2.06-2.06.94zm-11 1L8.5 8.5l.94-2.06 2.06-.94-2.06-.94L8.5 2.5l-.94 2.06-2.06.94zm10 10l.94 2.06.94-2.06 2.06-.94-2.06-.94-.94-2.06-.94 2.06-2.06.94z\"/><path d=\"M17.41 7.96l-1.37-1.37c-.4-.4-.92-.59-1.43-.59-.52 0-1.04.2-1.43.59L10.3 9.45l-7.72 7.72c-.78.78-.78 2.05 0 2.83L4 21.41c.39.39.9.59 1.41.59.51 0 1.02-.2 1.41-.59l7.78-7.78 2.81-2.81c.8-.78.8-2.07 0-2.86zM5.41 20L4 18.59l7.72-7.72 1.47 1.35L5.41 20z\"/>\n",
              "  </svg>\n",
              "      </button>\n",
              "      \n",
              "  <style>\n",
              "    .colab-df-container {\n",
              "      display:flex;\n",
              "      flex-wrap:wrap;\n",
              "      gap: 12px;\n",
              "    }\n",
              "\n",
              "    .colab-df-convert {\n",
              "      background-color: #E8F0FE;\n",
              "      border: none;\n",
              "      border-radius: 50%;\n",
              "      cursor: pointer;\n",
              "      display: none;\n",
              "      fill: #1967D2;\n",
              "      height: 32px;\n",
              "      padding: 0 0 0 0;\n",
              "      width: 32px;\n",
              "    }\n",
              "\n",
              "    .colab-df-convert:hover {\n",
              "      background-color: #E2EBFA;\n",
              "      box-shadow: 0px 1px 2px rgba(60, 64, 67, 0.3), 0px 1px 3px 1px rgba(60, 64, 67, 0.15);\n",
              "      fill: #174EA6;\n",
              "    }\n",
              "\n",
              "    [theme=dark] .colab-df-convert {\n",
              "      background-color: #3B4455;\n",
              "      fill: #D2E3FC;\n",
              "    }\n",
              "\n",
              "    [theme=dark] .colab-df-convert:hover {\n",
              "      background-color: #434B5C;\n",
              "      box-shadow: 0px 1px 3px 1px rgba(0, 0, 0, 0.15);\n",
              "      filter: drop-shadow(0px 1px 2px rgba(0, 0, 0, 0.3));\n",
              "      fill: #FFFFFF;\n",
              "    }\n",
              "  </style>\n",
              "\n",
              "      <script>\n",
              "        const buttonEl =\n",
              "          document.querySelector('#df-57898133-c5fd-45ea-88f2-f4134193969b button.colab-df-convert');\n",
              "        buttonEl.style.display =\n",
              "          google.colab.kernel.accessAllowed ? 'block' : 'none';\n",
              "\n",
              "        async function convertToInteractive(key) {\n",
              "          const element = document.querySelector('#df-57898133-c5fd-45ea-88f2-f4134193969b');\n",
              "          const dataTable =\n",
              "            await google.colab.kernel.invokeFunction('convertToInteractive',\n",
              "                                                     [key], {});\n",
              "          if (!dataTable) return;\n",
              "\n",
              "          const docLinkHtml = 'Like what you see? Visit the ' +\n",
              "            '<a target=\"_blank\" href=https://colab.research.google.com/notebooks/data_table.ipynb>data table notebook</a>'\n",
              "            + ' to learn more about interactive tables.';\n",
              "          element.innerHTML = '';\n",
              "          dataTable['output_type'] = 'display_data';\n",
              "          await google.colab.output.renderOutput(dataTable, element);\n",
              "          const docLink = document.createElement('div');\n",
              "          docLink.innerHTML = docLinkHtml;\n",
              "          element.appendChild(docLink);\n",
              "        }\n",
              "      </script>\n",
              "    </div>\n",
              "  </div>\n",
              "  "
            ]
          },
          "metadata": {},
          "execution_count": 73
        }
      ]
    },
    {
      "cell_type": "code",
      "source": [],
      "metadata": {
        "id": "FFpHs1QQNGNg"
      },
      "execution_count": null,
      "outputs": []
    },
    {
      "cell_type": "code",
      "source": [],
      "metadata": {
        "id": "GNNGyL_QNGJh"
      },
      "execution_count": null,
      "outputs": []
    },
    {
      "cell_type": "code",
      "source": [],
      "metadata": {
        "id": "VuaJ0xWDNGGp"
      },
      "execution_count": null,
      "outputs": []
    },
    {
      "cell_type": "code",
      "source": [],
      "metadata": {
        "id": "YFYR1PvcNF63"
      },
      "execution_count": null,
      "outputs": []
    },
    {
      "cell_type": "code",
      "source": [],
      "metadata": {
        "id": "5EfJpsQCNF2m"
      },
      "execution_count": null,
      "outputs": []
    },
    {
      "cell_type": "code",
      "source": [],
      "metadata": {
        "id": "lI4joFVwNFzn"
      },
      "execution_count": null,
      "outputs": []
    },
    {
      "cell_type": "code",
      "source": [],
      "metadata": {
        "id": "jQWqaVm4NFxy"
      },
      "execution_count": null,
      "outputs": []
    },
    {
      "cell_type": "code",
      "source": [],
      "metadata": {
        "id": "Z5sJkCngNFvn"
      },
      "execution_count": null,
      "outputs": []
    },
    {
      "cell_type": "code",
      "source": [],
      "metadata": {
        "id": "bzlEDHLJNFsw"
      },
      "execution_count": null,
      "outputs": []
    },
    {
      "cell_type": "code",
      "source": [],
      "metadata": {
        "id": "04H_mZEGNFqM"
      },
      "execution_count": null,
      "outputs": []
    }
  ]
}